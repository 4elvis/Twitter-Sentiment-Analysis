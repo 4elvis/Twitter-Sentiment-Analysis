{
  "nbformat": 4,
  "nbformat_minor": 0,
  "metadata": {
    "colab": {
      "name": "YellowStone_Remix.ipynb",
      "provenance": [],
      "collapsed_sections": [
        "aJ4zXocSl2Ka",
        "iAUTOgHRo9g1",
        "BZj8fJcsl_wu",
        "DEQMi-O3na0_",
        "ejyeuPNjn5Gu",
        "JMNBxfPFq-gb",
        "e1IvYGV9rT1c",
        "lMwDo23irqCZ",
        "r7ez83c3saBg",
        "vt74SKJXsfqS",
        "Tizs8h5EqM42",
        "8cfo-ORWsDdo"
      ],
      "toc_visible": true,
      "include_colab_link": true
    },
    "kernelspec": {
      "name": "python3",
      "display_name": "Python 3"
    },
    "language_info": {
      "name": "python"
    },
    "accelerator": "GPU"
  },
  "cells": [
    {
      "cell_type": "markdown",
      "metadata": {
        "id": "view-in-github",
        "colab_type": "text"
      },
      "source": [
        "<a href=\"https://colab.research.google.com/github/Ruthnguli/Twitter-Sentiment-Analysis/blob/main/YellowStone_Remix.ipynb\" target=\"_parent\"><img src=\"https://colab.research.google.com/assets/colab-badge.svg\" alt=\"Open In Colab\"/></a>"
      ]
    },
    {
      "cell_type": "markdown",
      "source": [
        "## Loading packages"
      ],
      "metadata": {
        "id": "msyL6aLsbYjw"
      }
    },
    {
      "cell_type": "code",
      "execution_count": null,
      "metadata": {
        "colab": {
          "base_uri": "https://localhost:8080/"
        },
        "id": "nNmROqlla4nj",
        "outputId": "2f8a0062-0c3f-45fc-d8ab-0b4ec2e0aceb"
      },
      "outputs": [
        {
          "output_type": "stream",
          "name": "stdout",
          "text": [
            "Collecting snscrape\n",
            "  Downloading snscrape-0.3.4-py3-none-any.whl (35 kB)\n",
            "Requirement already satisfied: beautifulsoup4 in /usr/local/lib/python3.7/dist-packages (from snscrape) (4.6.3)\n",
            "Requirement already satisfied: requests[socks] in /usr/local/lib/python3.7/dist-packages (from snscrape) (2.23.0)\n",
            "Requirement already satisfied: lxml in /usr/local/lib/python3.7/dist-packages (from snscrape) (4.2.6)\n",
            "Requirement already satisfied: urllib3!=1.25.0,!=1.25.1,<1.26,>=1.21.1 in /usr/local/lib/python3.7/dist-packages (from requests[socks]->snscrape) (1.24.3)\n",
            "Requirement already satisfied: chardet<4,>=3.0.2 in /usr/local/lib/python3.7/dist-packages (from requests[socks]->snscrape) (3.0.4)\n",
            "Requirement already satisfied: idna<3,>=2.5 in /usr/local/lib/python3.7/dist-packages (from requests[socks]->snscrape) (2.10)\n",
            "Requirement already satisfied: certifi>=2017.4.17 in /usr/local/lib/python3.7/dist-packages (from requests[socks]->snscrape) (2021.10.8)\n",
            "Requirement already satisfied: PySocks!=1.5.7,>=1.5.6 in /usr/local/lib/python3.7/dist-packages (from requests[socks]->snscrape) (1.7.1)\n",
            "Installing collected packages: snscrape\n",
            "Successfully installed snscrape-0.3.4\n",
            "Collecting ktrain\n",
            "  Downloading ktrain-0.30.0.tar.gz (25.3 MB)\n",
            "\u001b[K     |████████████████████████████████| 25.3 MB 28.9 MB/s \n",
            "\u001b[?25hCollecting scikit-learn==0.24.2\n",
            "  Downloading scikit_learn-0.24.2-cp37-cp37m-manylinux2010_x86_64.whl (22.3 MB)\n",
            "\u001b[K     |████████████████████████████████| 22.3 MB 1.7 MB/s \n",
            "\u001b[?25hRequirement already satisfied: matplotlib>=3.0.0 in /usr/local/lib/python3.7/dist-packages (from ktrain) (3.2.2)\n",
            "Requirement already satisfied: pandas>=1.0.1 in /usr/local/lib/python3.7/dist-packages (from ktrain) (1.3.5)\n",
            "Requirement already satisfied: fastprogress>=0.1.21 in /usr/local/lib/python3.7/dist-packages (from ktrain) (1.0.2)\n",
            "Requirement already satisfied: requests in /usr/local/lib/python3.7/dist-packages (from ktrain) (2.23.0)\n",
            "Requirement already satisfied: joblib in /usr/local/lib/python3.7/dist-packages (from ktrain) (1.1.0)\n",
            "Requirement already satisfied: packaging in /usr/local/lib/python3.7/dist-packages (from ktrain) (21.3)\n",
            "Collecting langdetect\n",
            "  Downloading langdetect-1.0.9.tar.gz (981 kB)\n",
            "\u001b[K     |████████████████████████████████| 981 kB 45.0 MB/s \n",
            "\u001b[?25hRequirement already satisfied: jieba in /usr/local/lib/python3.7/dist-packages (from ktrain) (0.42.1)\n",
            "Collecting cchardet\n",
            "  Downloading cchardet-2.1.7-cp37-cp37m-manylinux2010_x86_64.whl (263 kB)\n",
            "\u001b[K     |████████████████████████████████| 263 kB 30.2 MB/s \n",
            "\u001b[?25hRequirement already satisfied: chardet in /usr/local/lib/python3.7/dist-packages (from ktrain) (3.0.4)\n",
            "Collecting syntok==1.3.3\n",
            "  Downloading syntok-1.3.3-py3-none-any.whl (22 kB)\n",
            "Collecting transformers==4.10.3\n",
            "  Downloading transformers-4.10.3-py3-none-any.whl (2.8 MB)\n",
            "\u001b[K     |████████████████████████████████| 2.8 MB 29.7 MB/s \n",
            "\u001b[?25hCollecting sentencepiece\n",
            "  Downloading sentencepiece-0.1.96-cp37-cp37m-manylinux_2_17_x86_64.manylinux2014_x86_64.whl (1.2 MB)\n",
            "\u001b[K     |████████████████████████████████| 1.2 MB 10.8 MB/s \n",
            "\u001b[?25hCollecting keras_bert>=0.86.0\n",
            "  Downloading keras-bert-0.89.0.tar.gz (25 kB)\n",
            "Collecting whoosh\n",
            "  Downloading Whoosh-2.7.4-py2.py3-none-any.whl (468 kB)\n",
            "\u001b[K     |████████████████████████████████| 468 kB 36.2 MB/s \n",
            "\u001b[?25hRequirement already satisfied: numpy>=1.13.3 in /usr/local/lib/python3.7/dist-packages (from scikit-learn==0.24.2->ktrain) (1.21.6)\n",
            "Requirement already satisfied: threadpoolctl>=2.0.0 in /usr/local/lib/python3.7/dist-packages (from scikit-learn==0.24.2->ktrain) (3.1.0)\n",
            "Requirement already satisfied: scipy>=0.19.1 in /usr/local/lib/python3.7/dist-packages (from scikit-learn==0.24.2->ktrain) (1.4.1)\n",
            "Requirement already satisfied: regex in /usr/local/lib/python3.7/dist-packages (from syntok==1.3.3->ktrain) (2019.12.20)\n",
            "Collecting pyyaml>=5.1\n",
            "  Downloading PyYAML-6.0-cp37-cp37m-manylinux_2_5_x86_64.manylinux1_x86_64.manylinux_2_12_x86_64.manylinux2010_x86_64.whl (596 kB)\n",
            "\u001b[K     |████████████████████████████████| 596 kB 36.0 MB/s \n",
            "\u001b[?25hRequirement already satisfied: importlib-metadata in /usr/local/lib/python3.7/dist-packages (from transformers==4.10.3->ktrain) (4.11.3)\n",
            "Collecting tokenizers<0.11,>=0.10.1\n",
            "  Downloading tokenizers-0.10.3-cp37-cp37m-manylinux_2_5_x86_64.manylinux1_x86_64.manylinux_2_12_x86_64.manylinux2010_x86_64.whl (3.3 MB)\n",
            "\u001b[K     |████████████████████████████████| 3.3 MB 23.7 MB/s \n",
            "\u001b[?25hCollecting huggingface-hub>=0.0.12\n",
            "  Downloading huggingface_hub-0.5.1-py3-none-any.whl (77 kB)\n",
            "\u001b[K     |████████████████████████████████| 77 kB 6.2 MB/s \n",
            "\u001b[?25hRequirement already satisfied: tqdm>=4.27 in /usr/local/lib/python3.7/dist-packages (from transformers==4.10.3->ktrain) (4.64.0)\n",
            "Requirement already satisfied: filelock in /usr/local/lib/python3.7/dist-packages (from transformers==4.10.3->ktrain) (3.6.0)\n",
            "Collecting sacremoses\n",
            "  Downloading sacremoses-0.0.49-py3-none-any.whl (895 kB)\n",
            "\u001b[K     |████████████████████████████████| 895 kB 33.1 MB/s \n",
            "\u001b[?25hRequirement already satisfied: typing-extensions>=3.7.4.3 in /usr/local/lib/python3.7/dist-packages (from huggingface-hub>=0.0.12->transformers==4.10.3->ktrain) (4.1.1)\n",
            "Collecting keras-transformer==0.40.0\n",
            "  Downloading keras-transformer-0.40.0.tar.gz (9.7 kB)\n",
            "Collecting keras-pos-embd==0.13.0\n",
            "  Downloading keras-pos-embd-0.13.0.tar.gz (5.6 kB)\n",
            "Collecting keras-multi-head==0.29.0\n",
            "  Downloading keras-multi-head-0.29.0.tar.gz (13 kB)\n",
            "Collecting keras-layer-normalization==0.16.0\n",
            "  Downloading keras-layer-normalization-0.16.0.tar.gz (3.9 kB)\n",
            "Collecting keras-position-wise-feed-forward==0.8.0\n",
            "  Downloading keras-position-wise-feed-forward-0.8.0.tar.gz (4.1 kB)\n",
            "Collecting keras-embed-sim==0.10.0\n",
            "  Downloading keras-embed-sim-0.10.0.tar.gz (3.6 kB)\n",
            "Collecting keras-self-attention==0.51.0\n",
            "  Downloading keras-self-attention-0.51.0.tar.gz (11 kB)\n",
            "Requirement already satisfied: cycler>=0.10 in /usr/local/lib/python3.7/dist-packages (from matplotlib>=3.0.0->ktrain) (0.11.0)\n",
            "Requirement already satisfied: pyparsing!=2.0.4,!=2.1.2,!=2.1.6,>=2.0.1 in /usr/local/lib/python3.7/dist-packages (from matplotlib>=3.0.0->ktrain) (3.0.8)\n",
            "Requirement already satisfied: python-dateutil>=2.1 in /usr/local/lib/python3.7/dist-packages (from matplotlib>=3.0.0->ktrain) (2.8.2)\n",
            "Requirement already satisfied: kiwisolver>=1.0.1 in /usr/local/lib/python3.7/dist-packages (from matplotlib>=3.0.0->ktrain) (1.4.2)\n",
            "Requirement already satisfied: pytz>=2017.3 in /usr/local/lib/python3.7/dist-packages (from pandas>=1.0.1->ktrain) (2022.1)\n",
            "Requirement already satisfied: six>=1.5 in /usr/local/lib/python3.7/dist-packages (from python-dateutil>=2.1->matplotlib>=3.0.0->ktrain) (1.15.0)\n",
            "Requirement already satisfied: zipp>=0.5 in /usr/local/lib/python3.7/dist-packages (from importlib-metadata->transformers==4.10.3->ktrain) (3.8.0)\n",
            "Requirement already satisfied: idna<3,>=2.5 in /usr/local/lib/python3.7/dist-packages (from requests->ktrain) (2.10)\n",
            "Requirement already satisfied: urllib3!=1.25.0,!=1.25.1,<1.26,>=1.21.1 in /usr/local/lib/python3.7/dist-packages (from requests->ktrain) (1.24.3)\n",
            "Requirement already satisfied: certifi>=2017.4.17 in /usr/local/lib/python3.7/dist-packages (from requests->ktrain) (2021.10.8)\n",
            "Requirement already satisfied: click in /usr/local/lib/python3.7/dist-packages (from sacremoses->transformers==4.10.3->ktrain) (7.1.2)\n",
            "Building wheels for collected packages: ktrain, keras-bert, keras-transformer, keras-embed-sim, keras-layer-normalization, keras-multi-head, keras-pos-embd, keras-position-wise-feed-forward, keras-self-attention, langdetect\n",
            "  Building wheel for ktrain (setup.py) ... \u001b[?25l\u001b[?25hdone\n",
            "  Created wheel for ktrain: filename=ktrain-0.30.0-py3-none-any.whl size=25309161 sha256=c37154a84ab3f8b4ddc703de0ff9c2edc4d22d12ef2aeda126c67a47feb9de2e\n",
            "  Stored in directory: /root/.cache/pip/wheels/25/00/ae/80d1b19dd02bc2e6bc9bac32ba7dbaa59aad789e93274e4868\n",
            "  Building wheel for keras-bert (setup.py) ... \u001b[?25l\u001b[?25hdone\n",
            "  Created wheel for keras-bert: filename=keras_bert-0.89.0-py3-none-any.whl size=33517 sha256=27a8388b53c3068c20cce4e6f84b8803f18d2699fc1d93ea126bff7c67385081\n",
            "  Stored in directory: /root/.cache/pip/wheels/a4/e8/45/842b3a39831261aef9154b907eacbc4ac99499a99ae829b06f\n",
            "  Building wheel for keras-transformer (setup.py) ... \u001b[?25l\u001b[?25hdone\n",
            "  Created wheel for keras-transformer: filename=keras_transformer-0.40.0-py3-none-any.whl size=12305 sha256=2f52510c8c299d9ade02b6b8b1e9466e8cddf3d64e589f794ef0437ec3d0754c\n",
            "  Stored in directory: /root/.cache/pip/wheels/46/68/26/692ed21edd832833c3b0a0e21615bcacd99ca458b3f9ed571f\n",
            "  Building wheel for keras-embed-sim (setup.py) ... \u001b[?25l\u001b[?25hdone\n",
            "  Created wheel for keras-embed-sim: filename=keras_embed_sim-0.10.0-py3-none-any.whl size=3960 sha256=0d416dcdf9e5aa961c4edf696d1a235e194aa751e2287d245c75b72a88045645\n",
            "  Stored in directory: /root/.cache/pip/wheels/81/67/b5/d847588d075895281e1cf5590f819bd4cf076a554872268bd5\n",
            "  Building wheel for keras-layer-normalization (setup.py) ... \u001b[?25l\u001b[?25hdone\n",
            "  Created wheel for keras-layer-normalization: filename=keras_layer_normalization-0.16.0-py3-none-any.whl size=4668 sha256=b9decb74e169afb62bfa8dd20c58ea0ba914ad3c25e5d1c4e908b6e0c62579cb\n",
            "  Stored in directory: /root/.cache/pip/wheels/85/5d/1c/2e619f594f69fbcf8bc20943b27d414871c409be053994813e\n",
            "  Building wheel for keras-multi-head (setup.py) ... \u001b[?25l\u001b[?25hdone\n",
            "  Created wheel for keras-multi-head: filename=keras_multi_head-0.29.0-py3-none-any.whl size=14993 sha256=252f203e966b5f5d3e950301d8a35423a6c480f0ab87c9124175ca87aa4e1f2c\n",
            "  Stored in directory: /root/.cache/pip/wheels/86/aa/3c/9d15d24005179dae08ff291ce99c754b296347817d076fd9fb\n",
            "  Building wheel for keras-pos-embd (setup.py) ... \u001b[?25l\u001b[?25hdone\n",
            "  Created wheel for keras-pos-embd: filename=keras_pos_embd-0.13.0-py3-none-any.whl size=6962 sha256=6f0894486cd832d0232439842f18fe861e2bab9c10067b23daa388faafc77d3f\n",
            "  Stored in directory: /root/.cache/pip/wheels/8d/c1/a0/dc44fcf68c857b7ff6be9a97e675e5adf51022eff1169b042f\n",
            "  Building wheel for keras-position-wise-feed-forward (setup.py) ... \u001b[?25l\u001b[?25hdone\n",
            "  Created wheel for keras-position-wise-feed-forward: filename=keras_position_wise_feed_forward-0.8.0-py3-none-any.whl size=4983 sha256=91167007ab3bca8c307ccafac6c9333b493b9da04a64fe7cd9a329cf45114774\n",
            "  Stored in directory: /root/.cache/pip/wheels/c2/75/6f/d42f6e051506f442daeba53ff1e2d21a5f20ef8c411610f2bb\n",
            "  Building wheel for keras-self-attention (setup.py) ... \u001b[?25l\u001b[?25hdone\n",
            "  Created wheel for keras-self-attention: filename=keras_self_attention-0.51.0-py3-none-any.whl size=18912 sha256=aaf30721a158930d5f1af41a392d0d5e51424285b60086a7f07428c18d655085\n",
            "  Stored in directory: /root/.cache/pip/wheels/95/b1/a8/5ee00cc137940b2f6fa198212e8f45d813d0e0d9c3a04035a3\n",
            "  Building wheel for langdetect (setup.py) ... \u001b[?25l\u001b[?25hdone\n",
            "  Created wheel for langdetect: filename=langdetect-1.0.9-py3-none-any.whl size=993242 sha256=5b5f8967568d35f0fc654c967912978b9385a022cbef49b2df18230da3c07b28\n",
            "  Stored in directory: /root/.cache/pip/wheels/c5/96/8a/f90c59ed25d75e50a8c10a1b1c2d4c402e4dacfa87f3aff36a\n",
            "Successfully built ktrain keras-bert keras-transformer keras-embed-sim keras-layer-normalization keras-multi-head keras-pos-embd keras-position-wise-feed-forward keras-self-attention langdetect\n",
            "Installing collected packages: keras-self-attention, pyyaml, keras-position-wise-feed-forward, keras-pos-embd, keras-multi-head, keras-layer-normalization, keras-embed-sim, tokenizers, sacremoses, keras-transformer, huggingface-hub, whoosh, transformers, syntok, sentencepiece, scikit-learn, langdetect, keras-bert, cchardet, ktrain\n",
            "  Attempting uninstall: pyyaml\n",
            "    Found existing installation: PyYAML 3.13\n",
            "    Uninstalling PyYAML-3.13:\n",
            "      Successfully uninstalled PyYAML-3.13\n",
            "  Attempting uninstall: scikit-learn\n",
            "    Found existing installation: scikit-learn 1.0.2\n",
            "    Uninstalling scikit-learn-1.0.2:\n",
            "      Successfully uninstalled scikit-learn-1.0.2\n",
            "\u001b[31mERROR: pip's dependency resolver does not currently take into account all the packages that are installed. This behaviour is the source of the following dependency conflicts.\n",
            "yellowbrick 1.4 requires scikit-learn>=1.0.0, but you have scikit-learn 0.24.2 which is incompatible.\u001b[0m\n",
            "Successfully installed cchardet-2.1.7 huggingface-hub-0.5.1 keras-bert-0.89.0 keras-embed-sim-0.10.0 keras-layer-normalization-0.16.0 keras-multi-head-0.29.0 keras-pos-embd-0.13.0 keras-position-wise-feed-forward-0.8.0 keras-self-attention-0.51.0 keras-transformer-0.40.0 ktrain-0.30.0 langdetect-1.0.9 pyyaml-6.0 sacremoses-0.0.49 scikit-learn-0.24.2 sentencepiece-0.1.96 syntok-1.3.3 tokenizers-0.10.3 transformers-4.10.3 whoosh-2.7.4\n",
            "Collecting tensorflow_text\n",
            "  Downloading tensorflow_text-2.8.1-cp37-cp37m-manylinux_2_12_x86_64.manylinux2010_x86_64.whl (4.9 MB)\n",
            "\u001b[K     |████████████████████████████████| 4.9 MB 4.4 MB/s \n",
            "\u001b[?25hRequirement already satisfied: tensorflow<2.9,>=2.8.0 in /usr/local/lib/python3.7/dist-packages (from tensorflow_text) (2.8.0)\n",
            "Requirement already satisfied: tensorflow-hub>=0.8.0 in /usr/local/lib/python3.7/dist-packages (from tensorflow_text) (0.12.0)\n",
            "Requirement already satisfied: termcolor>=1.1.0 in /usr/local/lib/python3.7/dist-packages (from tensorflow<2.9,>=2.8.0->tensorflow_text) (1.1.0)\n",
            "Requirement already satisfied: h5py>=2.9.0 in /usr/local/lib/python3.7/dist-packages (from tensorflow<2.9,>=2.8.0->tensorflow_text) (3.1.0)\n",
            "Requirement already satisfied: keras-preprocessing>=1.1.1 in /usr/local/lib/python3.7/dist-packages (from tensorflow<2.9,>=2.8.0->tensorflow_text) (1.1.2)\n",
            "Requirement already satisfied: keras<2.9,>=2.8.0rc0 in /usr/local/lib/python3.7/dist-packages (from tensorflow<2.9,>=2.8.0->tensorflow_text) (2.8.0)\n",
            "Requirement already satisfied: absl-py>=0.4.0 in /usr/local/lib/python3.7/dist-packages (from tensorflow<2.9,>=2.8.0->tensorflow_text) (1.0.0)\n",
            "Requirement already satisfied: protobuf>=3.9.2 in /usr/local/lib/python3.7/dist-packages (from tensorflow<2.9,>=2.8.0->tensorflow_text) (3.17.3)\n",
            "Requirement already satisfied: libclang>=9.0.1 in /usr/local/lib/python3.7/dist-packages (from tensorflow<2.9,>=2.8.0->tensorflow_text) (13.0.0)\n",
            "Requirement already satisfied: astunparse>=1.6.0 in /usr/local/lib/python3.7/dist-packages (from tensorflow<2.9,>=2.8.0->tensorflow_text) (1.6.3)\n",
            "Requirement already satisfied: opt-einsum>=2.3.2 in /usr/local/lib/python3.7/dist-packages (from tensorflow<2.9,>=2.8.0->tensorflow_text) (3.3.0)\n",
            "Requirement already satisfied: numpy>=1.20 in /usr/local/lib/python3.7/dist-packages (from tensorflow<2.9,>=2.8.0->tensorflow_text) (1.21.6)\n",
            "Requirement already satisfied: tensorflow-io-gcs-filesystem>=0.23.1 in /usr/local/lib/python3.7/dist-packages (from tensorflow<2.9,>=2.8.0->tensorflow_text) (0.24.0)\n",
            "Requirement already satisfied: six>=1.12.0 in /usr/local/lib/python3.7/dist-packages (from tensorflow<2.9,>=2.8.0->tensorflow_text) (1.15.0)\n",
            "Collecting tf-estimator-nightly==2.8.0.dev2021122109\n",
            "  Downloading tf_estimator_nightly-2.8.0.dev2021122109-py2.py3-none-any.whl (462 kB)\n",
            "\u001b[K     |████████████████████████████████| 462 kB 41.1 MB/s \n",
            "\u001b[?25hRequirement already satisfied: typing-extensions>=3.6.6 in /usr/local/lib/python3.7/dist-packages (from tensorflow<2.9,>=2.8.0->tensorflow_text) (4.1.1)\n",
            "Requirement already satisfied: gast>=0.2.1 in /usr/local/lib/python3.7/dist-packages (from tensorflow<2.9,>=2.8.0->tensorflow_text) (0.5.3)\n",
            "Requirement already satisfied: wrapt>=1.11.0 in /usr/local/lib/python3.7/dist-packages (from tensorflow<2.9,>=2.8.0->tensorflow_text) (1.14.0)\n",
            "Requirement already satisfied: grpcio<2.0,>=1.24.3 in /usr/local/lib/python3.7/dist-packages (from tensorflow<2.9,>=2.8.0->tensorflow_text) (1.44.0)\n",
            "Requirement already satisfied: google-pasta>=0.1.1 in /usr/local/lib/python3.7/dist-packages (from tensorflow<2.9,>=2.8.0->tensorflow_text) (0.2.0)\n",
            "Requirement already satisfied: setuptools in /usr/local/lib/python3.7/dist-packages (from tensorflow<2.9,>=2.8.0->tensorflow_text) (57.4.0)\n",
            "Requirement already satisfied: flatbuffers>=1.12 in /usr/local/lib/python3.7/dist-packages (from tensorflow<2.9,>=2.8.0->tensorflow_text) (2.0)\n",
            "Requirement already satisfied: tensorboard<2.9,>=2.8 in /usr/local/lib/python3.7/dist-packages (from tensorflow<2.9,>=2.8.0->tensorflow_text) (2.8.0)\n",
            "Requirement already satisfied: wheel<1.0,>=0.23.0 in /usr/local/lib/python3.7/dist-packages (from astunparse>=1.6.0->tensorflow<2.9,>=2.8.0->tensorflow_text) (0.37.1)\n",
            "Requirement already satisfied: cached-property in /usr/local/lib/python3.7/dist-packages (from h5py>=2.9.0->tensorflow<2.9,>=2.8.0->tensorflow_text) (1.5.2)\n",
            "Requirement already satisfied: google-auth<3,>=1.6.3 in /usr/local/lib/python3.7/dist-packages (from tensorboard<2.9,>=2.8->tensorflow<2.9,>=2.8.0->tensorflow_text) (1.35.0)\n",
            "Requirement already satisfied: tensorboard-data-server<0.7.0,>=0.6.0 in /usr/local/lib/python3.7/dist-packages (from tensorboard<2.9,>=2.8->tensorflow<2.9,>=2.8.0->tensorflow_text) (0.6.1)\n",
            "Requirement already satisfied: markdown>=2.6.8 in /usr/local/lib/python3.7/dist-packages (from tensorboard<2.9,>=2.8->tensorflow<2.9,>=2.8.0->tensorflow_text) (3.3.6)\n",
            "Requirement already satisfied: werkzeug>=0.11.15 in /usr/local/lib/python3.7/dist-packages (from tensorboard<2.9,>=2.8->tensorflow<2.9,>=2.8.0->tensorflow_text) (1.0.1)\n",
            "Requirement already satisfied: tensorboard-plugin-wit>=1.6.0 in /usr/local/lib/python3.7/dist-packages (from tensorboard<2.9,>=2.8->tensorflow<2.9,>=2.8.0->tensorflow_text) (1.8.1)\n",
            "Requirement already satisfied: google-auth-oauthlib<0.5,>=0.4.1 in /usr/local/lib/python3.7/dist-packages (from tensorboard<2.9,>=2.8->tensorflow<2.9,>=2.8.0->tensorflow_text) (0.4.6)\n",
            "Requirement already satisfied: requests<3,>=2.21.0 in /usr/local/lib/python3.7/dist-packages (from tensorboard<2.9,>=2.8->tensorflow<2.9,>=2.8.0->tensorflow_text) (2.23.0)\n",
            "Requirement already satisfied: rsa<5,>=3.1.4 in /usr/local/lib/python3.7/dist-packages (from google-auth<3,>=1.6.3->tensorboard<2.9,>=2.8->tensorflow<2.9,>=2.8.0->tensorflow_text) (4.8)\n",
            "Requirement already satisfied: cachetools<5.0,>=2.0.0 in /usr/local/lib/python3.7/dist-packages (from google-auth<3,>=1.6.3->tensorboard<2.9,>=2.8->tensorflow<2.9,>=2.8.0->tensorflow_text) (4.2.4)\n",
            "Requirement already satisfied: pyasn1-modules>=0.2.1 in /usr/local/lib/python3.7/dist-packages (from google-auth<3,>=1.6.3->tensorboard<2.9,>=2.8->tensorflow<2.9,>=2.8.0->tensorflow_text) (0.2.8)\n",
            "Requirement already satisfied: requests-oauthlib>=0.7.0 in /usr/local/lib/python3.7/dist-packages (from google-auth-oauthlib<0.5,>=0.4.1->tensorboard<2.9,>=2.8->tensorflow<2.9,>=2.8.0->tensorflow_text) (1.3.1)\n",
            "Requirement already satisfied: importlib-metadata>=4.4 in /usr/local/lib/python3.7/dist-packages (from markdown>=2.6.8->tensorboard<2.9,>=2.8->tensorflow<2.9,>=2.8.0->tensorflow_text) (4.11.3)\n",
            "Requirement already satisfied: zipp>=0.5 in /usr/local/lib/python3.7/dist-packages (from importlib-metadata>=4.4->markdown>=2.6.8->tensorboard<2.9,>=2.8->tensorflow<2.9,>=2.8.0->tensorflow_text) (3.8.0)\n",
            "Requirement already satisfied: pyasn1<0.5.0,>=0.4.6 in /usr/local/lib/python3.7/dist-packages (from pyasn1-modules>=0.2.1->google-auth<3,>=1.6.3->tensorboard<2.9,>=2.8->tensorflow<2.9,>=2.8.0->tensorflow_text) (0.4.8)\n",
            "Requirement already satisfied: urllib3!=1.25.0,!=1.25.1,<1.26,>=1.21.1 in /usr/local/lib/python3.7/dist-packages (from requests<3,>=2.21.0->tensorboard<2.9,>=2.8->tensorflow<2.9,>=2.8.0->tensorflow_text) (1.24.3)\n",
            "Requirement already satisfied: chardet<4,>=3.0.2 in /usr/local/lib/python3.7/dist-packages (from requests<3,>=2.21.0->tensorboard<2.9,>=2.8->tensorflow<2.9,>=2.8.0->tensorflow_text) (3.0.4)\n",
            "Requirement already satisfied: certifi>=2017.4.17 in /usr/local/lib/python3.7/dist-packages (from requests<3,>=2.21.0->tensorboard<2.9,>=2.8->tensorflow<2.9,>=2.8.0->tensorflow_text) (2021.10.8)\n",
            "Requirement already satisfied: idna<3,>=2.5 in /usr/local/lib/python3.7/dist-packages (from requests<3,>=2.21.0->tensorboard<2.9,>=2.8->tensorflow<2.9,>=2.8.0->tensorflow_text) (2.10)\n",
            "Requirement already satisfied: oauthlib>=3.0.0 in /usr/local/lib/python3.7/dist-packages (from requests-oauthlib>=0.7.0->google-auth-oauthlib<0.5,>=0.4.1->tensorboard<2.9,>=2.8->tensorflow<2.9,>=2.8.0->tensorflow_text) (3.2.0)\n",
            "Installing collected packages: tf-estimator-nightly, tensorflow-text\n",
            "Successfully installed tensorflow-text-2.8.1 tf-estimator-nightly-2.8.0.dev2021122109\n",
            "Requirement already satisfied: transformers in /usr/local/lib/python3.7/dist-packages (4.10.3)\n",
            "Requirement already satisfied: filelock in /usr/local/lib/python3.7/dist-packages (from transformers) (3.6.0)\n",
            "Requirement already satisfied: pyyaml>=5.1 in /usr/local/lib/python3.7/dist-packages (from transformers) (6.0)\n",
            "Requirement already satisfied: requests in /usr/local/lib/python3.7/dist-packages (from transformers) (2.23.0)\n",
            "Requirement already satisfied: numpy>=1.17 in /usr/local/lib/python3.7/dist-packages (from transformers) (1.21.6)\n",
            "Requirement already satisfied: regex!=2019.12.17 in /usr/local/lib/python3.7/dist-packages (from transformers) (2019.12.20)\n",
            "Requirement already satisfied: huggingface-hub>=0.0.12 in /usr/local/lib/python3.7/dist-packages (from transformers) (0.5.1)\n",
            "Requirement already satisfied: sacremoses in /usr/local/lib/python3.7/dist-packages (from transformers) (0.0.49)\n",
            "Requirement already satisfied: packaging in /usr/local/lib/python3.7/dist-packages (from transformers) (21.3)\n",
            "Requirement already satisfied: importlib-metadata in /usr/local/lib/python3.7/dist-packages (from transformers) (4.11.3)\n",
            "Requirement already satisfied: tokenizers<0.11,>=0.10.1 in /usr/local/lib/python3.7/dist-packages (from transformers) (0.10.3)\n",
            "Requirement already satisfied: tqdm>=4.27 in /usr/local/lib/python3.7/dist-packages (from transformers) (4.64.0)\n",
            "Requirement already satisfied: typing-extensions>=3.7.4.3 in /usr/local/lib/python3.7/dist-packages (from huggingface-hub>=0.0.12->transformers) (4.1.1)\n",
            "Requirement already satisfied: pyparsing!=3.0.5,>=2.0.2 in /usr/local/lib/python3.7/dist-packages (from packaging->transformers) (3.0.8)\n",
            "Requirement already satisfied: zipp>=0.5 in /usr/local/lib/python3.7/dist-packages (from importlib-metadata->transformers) (3.8.0)\n",
            "Requirement already satisfied: idna<3,>=2.5 in /usr/local/lib/python3.7/dist-packages (from requests->transformers) (2.10)\n",
            "Requirement already satisfied: chardet<4,>=3.0.2 in /usr/local/lib/python3.7/dist-packages (from requests->transformers) (3.0.4)\n",
            "Requirement already satisfied: certifi>=2017.4.17 in /usr/local/lib/python3.7/dist-packages (from requests->transformers) (2021.10.8)\n",
            "Requirement already satisfied: urllib3!=1.25.0,!=1.25.1,<1.26,>=1.21.1 in /usr/local/lib/python3.7/dist-packages (from requests->transformers) (1.24.3)\n",
            "Requirement already satisfied: six in /usr/local/lib/python3.7/dist-packages (from sacremoses->transformers) (1.15.0)\n",
            "Requirement already satisfied: joblib in /usr/local/lib/python3.7/dist-packages (from sacremoses->transformers) (1.1.0)\n",
            "Requirement already satisfied: click in /usr/local/lib/python3.7/dist-packages (from sacremoses->transformers) (7.1.2)\n"
          ]
        }
      ],
      "source": [
        "!pip install snscrape\n",
        "\n",
        "!pip3 install ktrain\n",
        "\n",
        "!python -m pip install tensorflow_text\n",
        "\n",
        "!pip install transformers"
      ]
    },
    {
      "cell_type": "code",
      "source": [
        "# Importing Libraries\n",
        "#\n",
        "import tensorflow as tf\n",
        "import pandas as pd\n",
        "from sklearn.model_selection import train_test_split\n",
        "import numpy as np\n",
        "import matplotlib.pyplot as plt\n",
        "import ktrain\n",
        "from ktrain import text\n",
        "import tensorflow_hub as hub\n",
        "import tensorflow_text as text\n",
        "from sklearn.metrics import confusion_matrix, classification_report\n",
        "from matplotlib import pyplot as plt\n",
        "import seaborn as sn\n",
        "import os\n",
        "import snscrape.modules.twitter as sntwitter\n",
        "import re, string\n",
        "from transformers import BertTokenizer, TFBertForSequenceClassification\n",
        "from transformers import InputExample, InputFeatures\n",
        "from textblob import TextBlob\n",
        "from sklearn.preprocessing import LabelEncoder\n",
        "from imblearn.over_sampling import RandomOverSampler\n",
        "from sklearn.metrics.pairwise import cosine_similarity\n",
        "from sklearn.feature_extraction.text import CountVectorizer\n",
        "from sklearn.feature_extraction.text import TfidfTransformer\n",
        "from sklearn.naive_bayes import MultinomialNB  \n",
        "from sklearn.metrics import confusion_matrix\n",
        "from sklearn.metrics import accuracy_score\n",
        "import warnings\n",
        "warnings.filterwarnings(\"ignore\")"
      ],
      "metadata": {
        "id": "NrgN71q6dcTI"
      },
      "execution_count": null,
      "outputs": []
    },
    {
      "cell_type": "code",
      "source": [
        "#Importing lemmatization libraries\n",
        "import nltk\n",
        "\n",
        "from nltk.stem.wordnet import WordNetLemmatizer\n",
        "from wordcloud import WordCloud, STOPWORDS\n",
        "nltk.download('wordnet')"
      ],
      "metadata": {
        "colab": {
          "base_uri": "https://localhost:8080/"
        },
        "id": "IzHxYyVFg3vT",
        "outputId": "a09b6009-be00-4b53-c8bb-f1dc8654eaf6"
      },
      "execution_count": null,
      "outputs": [
        {
          "output_type": "stream",
          "name": "stdout",
          "text": [
            "[nltk_data] Downloading package wordnet to /root/nltk_data...\n",
            "[nltk_data]   Unzipping corpora/wordnet.zip.\n"
          ]
        },
        {
          "output_type": "execute_result",
          "data": {
            "text/plain": [
              "True"
            ]
          },
          "metadata": {},
          "execution_count": 3
        }
      ]
    },
    {
      "cell_type": "markdown",
      "source": [
        "## Functions"
      ],
      "metadata": {
        "id": "Hswlq4p1bpIh"
      }
    },
    {
      "cell_type": "code",
      "source": [
        "#function for sorting the multiple hashes and multiple @\n",
        "#also sorts out @'s and # that occur within text\n",
        "# changes lonesome @ to at\n",
        "def find_the (text):\n",
        "    while len(re.findall('##' , text)) != 0:\n",
        "        text = re.sub('##' , '#' ,text)\n",
        "    while len(re.findall('@@' , text)) != 0:\n",
        "        text = re.sub('@@' , '@' ,text)\n",
        "\n",
        "    no_h = len(re.findall('#',text))\n",
        "    #make sure the @ is changed for at\n",
        "    no_a = len(re.findall('@',text))\n",
        "    \n",
        "    text = re.sub('@(\\s|\\.|\\?|,|;|:|!|\\(|\\))', 'at' , text)\n",
        "    text = re.sub('\\s' , ' ' , text)\n",
        "    text = re.sub('\\S@' , ' @' , text)\n",
        "    text = re.sub('\\S#' , ' #' , text)\n",
        "\n",
        "    #while len(re.findall('\\s\\s' , text)) != 0:\n",
        "    #    text = re.sub('\\s\\s' , '\\s' ,text)\n",
        "\n",
        "    #none_repeat = text\n",
        "    text_a = text.split()\n",
        "\n",
        "            \n",
        "    return text"
      ],
      "metadata": {
        "id": "8sCq2nqMiZlf"
      },
      "execution_count": null,
      "outputs": []
    },
    {
      "cell_type": "code",
      "source": [
        "# Applying Lemmmatizer to remove tenses from texts.\n",
        "lemmatizer = WordNetLemmatizer()\n",
        "#stemmer = SnowballStemmer(\"english\")\n",
        "STOPWORDS.update(['mkr', 'didn', 'bc', 'n', 'm', \n",
        "                  'im', 'll', 'y', 've', 'u', 'ur', 'don', \n",
        "                  'p', 't', 's', 'aren', 'kp', 'o', 'kat', \n",
        "                  'de', 're', 'amp', 'will'])# 'rt'\n",
        "corpus = []\n",
        "def preprocess_tweet(tweet):\n",
        "    tweet = re.sub(r\"won\\'t\", \"will not\", tweet)\n",
        "    tweet = re.sub(r\"can\\'t\", \"can not\", tweet)\n",
        "    tweet = re.sub(r\"n\\'t\", \" not\", tweet)\n",
        "    tweet = re.sub(r\"\\'re\", \" are\", tweet)\n",
        "    tweet = re.sub(r\"\\'s\", \" is\", tweet)\n",
        "    tweet = re.sub(r\"\\'d\", \" would\",tweet)\n",
        "    tweet = re.sub(r\"\\'ll\", \" will\", tweet)\n",
        "    tweet = re.sub(r\"\\'t\", \" not\", tweet)\n",
        "    tweet = re.sub(r\"\\'ve\", \" have\", tweet)\n",
        "    tweet = re.sub(r\"\\'m\", \" am\", tweet)\n",
        "    #tweet = re.sub('[^a-zA-Z]',' ',tweet)\n",
        "    #tweet = re.sub(r'[^\\x00-\\x7f]','',tweet)\n",
        "    #tweet = \" \".join([stemmer.stem(word) for word in tweet.split()])\n",
        "    tweet = [lemmatizer.lemmatize(word) for word in tweet.split() if not word in set(STOPWORDS)]\n",
        "    tweet = ' '.join(tweet)\n",
        "    return tweet"
      ],
      "metadata": {
        "id": "qITwO1Q6igXF"
      },
      "execution_count": null,
      "outputs": []
    },
    {
      "cell_type": "code",
      "source": [
        "# Creating a tag maker function to extract @'s and #'s as the data is cleaned by the lemmatizer so as not to alter the tags\n",
        "def tag_maker (text):\n",
        "  text_a = text.split()\n",
        "  tag_a = []\n",
        "  for r in range(0, len(text_a)):\n",
        "    if text_a[r].startswith('#') or text_a[r].startswith('@'):\n",
        "      tag_name = '<<yellowstone<<' + str(len(tag_a)) + '>>yellowstone>>'\n",
        "      tag_a.append(text_a[r])\n",
        "      text_a[r] = tag_name\n",
        "\n",
        "  r_text = ' '.join(text_a)\n",
        "\n",
        "  return [r_text , tag_a]\n",
        "\n",
        "  "
      ],
      "metadata": {
        "id": "BMedfqVBik6F"
      },
      "execution_count": null,
      "outputs": []
    },
    {
      "cell_type": "code",
      "source": [
        "def get_sentence_embeding(sentences):\n",
        "    preprocessed_text = bert_preprocess(sentences)\n",
        "    return bert_encoder(preprocessed_text)['pooled_output']\n"
      ],
      "metadata": {
        "id": "UkkguWXVmis2"
      },
      "execution_count": null,
      "outputs": []
    },
    {
      "cell_type": "code",
      "source": [
        "# Creating a tag replacer function replaces tags from text that has been lematized to the original @'s and #'s\n",
        "\n",
        "\n",
        "def tag_replacer (text , tag_a):\n",
        "  text_a = text.split()\n",
        "\n",
        "  for r in range(0, len(text_a)):\n",
        "    if ('<<yellowstone<<' in text_a[r]) and ('>>yellowstone>>' in text_a[r]):\n",
        "      num = text_a[r]\n",
        "      num = num[15:][:-15]\n",
        "      num = int(num)\n",
        "      text_a[r] = tag_a[num]\n",
        "\n",
        "  r_text = ' '.join(text_a)\n",
        "\n",
        "  return r_text"
      ],
      "metadata": {
        "id": "UNd0hS2yiuHT"
      },
      "execution_count": null,
      "outputs": []
    },
    {
      "cell_type": "code",
      "source": [
        "# Creating a lema and stem function to call the tag maker the lematizer and the tag replacer\n",
        "\n",
        "def tags_lema_stem(text):\n",
        "  for_lem = tag_maker(text)\n",
        "  for_tag_removal = preprocess_tweet(for_lem[0])\n",
        "  r_text = tag_replacer(for_tag_removal, for_lem[1])\n",
        "\n",
        "  return r_text"
      ],
      "metadata": {
        "id": "coknAeVci5Vo"
      },
      "execution_count": null,
      "outputs": []
    },
    {
      "cell_type": "code",
      "source": [
        "# fuction to get the ats and hashes out \n",
        "\n",
        "def hash_and_ats (text):\n",
        "    text_a = text.split()\n",
        "    hash_list = []\n",
        "    at_list = []\n",
        "    \n",
        "    for a in text_a:\n",
        "        \n",
        "        if a.startswith('#'):\n",
        "            a = a.lower()\n",
        "            hash_list.append(a)\n",
        "        elif a.startswith('@'):\n",
        "            at_list.append(a)\n",
        "\n",
        "    return [hash_list , at_list]"
      ],
      "metadata": {
        "id": "FseomgESjGxy"
      },
      "execution_count": null,
      "outputs": []
    },
    {
      "cell_type": "code",
      "source": [
        "# removes words that start with at predefined set of characters in a list\n",
        "def header_remover(text, hr):\n",
        "    to_drop = hr\n",
        "    text_a = text.split()\n",
        "    for g in range(len(text_a)-1, -1 , -1):\n",
        "        for a in to_drop:\n",
        "            if text_a[g].startswith(a):\n",
        "                text_a.pop(g)\n",
        "                break\n",
        "\n",
        "    text = ' '.join(text_a)\n",
        "    return text"
      ],
      "metadata": {
        "id": "9ZBr7g7TjNcs"
      },
      "execution_count": null,
      "outputs": []
    },
    {
      "cell_type": "code",
      "source": [
        "# Polarity\n",
        "# Function to get polarity(sentiments) of text using the module textblob\n",
        "#\n",
        "def get_polarity(text):\n",
        "    try:\n",
        "        textblob = TextBlob(text)\n",
        "        pol = textblob.sentiment.polarity\n",
        "    except:\n",
        "        pol = 0.0\n",
        "    return pol"
      ],
      "metadata": {
        "id": "iVEPMjTmjWwH"
      },
      "execution_count": null,
      "outputs": []
    },
    {
      "cell_type": "code",
      "source": [
        "# Subjectivity\n",
        "# Function to get polatiy of text using the module textblob\n",
        "def get_subjectivity(text):\n",
        "    try:\n",
        "        textblob = TextBlob(text)\n",
        "        subj = textblob.sentiment.subjectivity\n",
        "    except:\n",
        "        subj = 0.0\n",
        "    return subj"
      ],
      "metadata": {
        "id": "it6_St6Mj5sH"
      },
      "execution_count": null,
      "outputs": []
    },
    {
      "cell_type": "code",
      "source": [
        "# Labelling sentiments to either Positive or Negative\n",
        "#\n",
        "def positive_negative(f):\n",
        "\tif f < 0:\n",
        "\t\treturn 'Negative'\n",
        "\telse:\n",
        "\t\treturn 'Positive'"
      ],
      "metadata": {
        "id": "wmjgcfT5j9yK"
      },
      "execution_count": null,
      "outputs": []
    },
    {
      "cell_type": "code",
      "source": [
        "#Visiualization function\n",
        "#\n",
        "def bar_outlier (stat_dataframe, threshold):\n",
        "  sec = stat_dataframe.iloc[1,1]\n",
        "  fir = stat_dataframe.iloc[0,1]\n",
        "  if threshold != 0:\n",
        "    if fir > (sec * threshold):\n",
        "      stat_dataframe = stat_dataframe.drop(stat_dataframe.index[0])\n",
        "      stat_dataframe.reset_index(inplace=True)\n",
        "      stat_dataframe.drop(columns = ['index'] , inplace = True)\n",
        "  return stat_dataframe\n",
        "\n",
        "#Visiualization function\n",
        "#\n",
        "def make_bars(h_list , entries, f_size, threshold):\n",
        "  c = collections.Counter(sum(h_list, []))\n",
        "  hash = pd.DataFrame(c.most_common(entries))\n",
        "  hash = bar_outlier(hash , threshold)\n",
        "  fig = plt.figure(figsize = f_size)\n",
        "  ax = fig.add_axes([0,0,1,1])\n",
        "  ax.bar(hash[0],hash[1])\n",
        "  plt.xticks(rotation=60)"
      ],
      "metadata": {
        "id": "X1Gb27iTkGAV"
      },
      "execution_count": null,
      "outputs": []
    },
    {
      "cell_type": "code",
      "source": [
        "# creating a def function to identify hastags and ats for visualization\n",
        "#\n",
        "def for_pie (a,b):\n",
        "  if a == [] and b == []:\n",
        "    return 0\n",
        "  if a == [] and b != []:\n",
        "    return 1\n",
        "  if a != [] and b == []:\n",
        "    return 2\n",
        "  if a != [] and b != []:\n",
        "    return 3"
      ],
      "metadata": {
        "id": "8RX9NWYskcQ9"
      },
      "execution_count": null,
      "outputs": []
    },
    {
      "cell_type": "markdown",
      "source": [
        "# Business Understanding"
      ],
      "metadata": {
        "id": "4AN6YCk6k6YU"
      }
    },
    {
      "cell_type": "markdown",
      "source": [
        "# Data Understanding"
      ],
      "metadata": {
        "id": "CTBTz8tOopDA"
      }
    },
    {
      "cell_type": "markdown",
      "source": [
        "## Data Acquisition"
      ],
      "metadata": {
        "id": "aJ4zXocSl2Ka"
      }
    },
    {
      "cell_type": "code",
      "source": [
        "# Creating list to append tweet data to\n",
        "tweets_list2 = []\n",
        "\n",
        "# Using TwitterSearchScraper to scrape data and append tweets to list\n",
        "for i,tweet in enumerate(sntwitter.TwitterSearchScraper('EABL').get_items()):\n",
        "    if i>5000:\n",
        "        break\n",
        "    tweets_list2.append([tweet.date, tweet.id, tweet.content, tweet.username])\n",
        "    \n",
        "# Creating a dataframe from the tweets list above\n",
        "tweets_df2 = pd.DataFrame(tweets_list2, columns=['Datetime', 'Tweet Id', 'Tweet', 'Username'])"
      ],
      "metadata": {
        "id": "9IU08cjYlCzw"
      },
      "execution_count": null,
      "outputs": []
    },
    {
      "cell_type": "code",
      "source": [
        "# Previewing the top 20 of data\n",
        "#\n",
        "tweets_df2.head(20)"
      ],
      "metadata": {
        "id": "nX75awW6lpsW"
      },
      "execution_count": null,
      "outputs": []
    },
    {
      "cell_type": "code",
      "source": [
        "# Preview the shape of data\n",
        "#\n",
        "tweets_df2.shape"
      ],
      "metadata": {
        "id": "DfcCOceBltLa"
      },
      "execution_count": null,
      "outputs": []
    },
    {
      "cell_type": "code",
      "source": [
        "# preview of 20 random samples\n",
        "#\n",
        "tweets_df2.sample(10)"
      ],
      "metadata": {
        "id": "iqvbH_M_lxnx"
      },
      "execution_count": null,
      "outputs": []
    },
    {
      "cell_type": "markdown",
      "source": [
        "## ........."
      ],
      "metadata": {
        "id": "iAUTOgHRo9g1"
      }
    },
    {
      "cell_type": "markdown",
      "source": [
        "# Data Preparation"
      ],
      "metadata": {
        "id": "1we0lI6upGGS"
      }
    },
    {
      "cell_type": "markdown",
      "source": [
        "## Cleaning Data"
      ],
      "metadata": {
        "id": "BZj8fJcsl_wu"
      }
    },
    {
      "cell_type": "code",
      "source": [
        "# dropping irrelevant columns\n",
        "df = tweets_df2.drop(['Datetime', 'Tweet Id', 'Username'], axis = 1) \n",
        "\n",
        "# renaming column \n",
        "df.columns = ['tweet']\n",
        "\n",
        "# previewing datset\n",
        "df.sample(5)"
      ],
      "metadata": {
        "id": "sjjnzmJsmBfB"
      },
      "execution_count": null,
      "outputs": []
    },
    {
      "cell_type": "code",
      "source": [
        "# getting non repetitive column\n",
        "# handling whitespaces\n",
        "df['nr_tweet'] = df.tweet.apply(lambda d: find_the(d))\n",
        "df.head()"
      ],
      "metadata": {
        "id": "Tg_dspjSmNcm"
      },
      "execution_count": null,
      "outputs": []
    },
    {
      "cell_type": "code",
      "source": [
        "# We take the non repetitive tweets and change them to lower case, expose them to the tags_lema_stem \n",
        "# as well as, removing the (not so sure) while still maintaining the hashtags and ats\n",
        "\n",
        "\n",
        "\n",
        "df['c_tweet'] = df['nr_tweet'].str.lower()\n",
        "\n",
        "df['c_tweet'] = df['c_tweet'].apply (lambda i : tags_lema_stem(i))\n",
        "\n",
        "df['c_tweet'] = df['c_tweet'].apply(lambda i : re.sub('[^a-zA-Z0-9_#@ ]','',i)) #maintains the hashtags and the @'s\n",
        "\n",
        "df.head(20)"
      ],
      "metadata": {
        "id": "YIHHNqwVm8Ub"
      },
      "execution_count": null,
      "outputs": []
    },
    {
      "cell_type": "code",
      "source": [
        "# getting the hashtag and ats columns\n",
        "#\n",
        "df['hashtags'] = df['nr_tweet'].apply(lambda f : hash_and_ats(f)[0])\n",
        "df['ats'] = df['nr_tweet'].apply(lambda f : hash_and_ats(f)[1])\n",
        "\n",
        "# preview of random 20 \n",
        "#\n",
        "df.sample(2)"
      ],
      "metadata": {
        "id": "Sc_ZsOT6nGiJ"
      },
      "execution_count": null,
      "outputs": []
    },
    {
      "cell_type": "code",
      "source": [
        "# Removing the hash and Ats\n",
        "\n",
        "df['m_tweet'] = df['c_tweet'].apply(lambda i : header_remover(i , ['#' , '@']))\n",
        "df['h_tweet'] = df['c_tweet'].apply(lambda i : header_remover(i , ['@']))\n",
        "df['a_tweet'] = df['c_tweet'].apply(lambda i : header_remover(i , ['#']))"
      ],
      "metadata": {
        "id": "nMwAavH8nKuX"
      },
      "execution_count": null,
      "outputs": []
    },
    {
      "cell_type": "code",
      "source": [
        "# the rest of the stats\n",
        "df['no_of_punctuations'] = df.tweet.apply(lambda x : len(re.findall('[^a-zA-Z0-9_ ]', x)))\n",
        "df['no_of_at'] = df['ats'].apply ( lambda s : len(s))\n",
        "df['no_of_hashes'] = df['ats'].apply ( lambda s : len(s))\n",
        "df['no_of_words'] = df['nr_tweet'].apply ( lambda s : len(s.split()))\n",
        "\n",
        "# no of words without @\n",
        "df['no_of_words_no_at'] = df['no_of_words'] - df['no_of_at']\n",
        "\n",
        "# no of words without #\n",
        "df['no_of_words_no_hash'] = df['no_of_words'] - df['no_of_hashes']\n",
        "\n",
        "# no of words without @ and #\n",
        "df['no_of_words_no_at_hash'] = df['no_of_words'] - df['no_of_at'] - df['no_of_hashes']\n",
        "df['length_of_tweet'] = df['nr_tweet'].apply (lambda y : len(y))\n"
      ],
      "metadata": {
        "id": "V8MwRDpanPDg"
      },
      "execution_count": null,
      "outputs": []
    },
    {
      "cell_type": "code",
      "source": [
        "# Viewing our current dataset\n",
        "\n",
        "df.head(20)"
      ],
      "metadata": {
        "id": "5DkxfUPInXNb"
      },
      "execution_count": null,
      "outputs": []
    },
    {
      "cell_type": "markdown",
      "source": [
        "## ****Testing for digits"
      ],
      "metadata": {
        "id": "DEQMi-O3na0_"
      }
    },
    {
      "cell_type": "code",
      "source": [
        "# contains a list of the beginning of the words that should be dropped\n",
        "#\n",
        "header_drop = ['http']"
      ],
      "metadata": {
        "id": "hFcqCFL3ndAI"
      },
      "execution_count": null,
      "outputs": []
    },
    {
      "cell_type": "code",
      "source": [
        "# Finding the number of digits contained in the tweet\n",
        "#\n",
        "df['is_there_digit'] = df['m_tweet'].apply(lambda y : len(re.findall('[0-9]' , y)))"
      ],
      "metadata": {
        "id": "chst7wlDnnAv"
      },
      "execution_count": null,
      "outputs": []
    },
    {
      "cell_type": "code",
      "source": [
        "# Getting the all the digits that are not 0\n",
        "\n",
        "m = df[(df['is_there_digit'] != 0)]"
      ],
      "metadata": {
        "id": "jTsdPCYcnpss"
      },
      "execution_count": null,
      "outputs": []
    },
    {
      "cell_type": "code",
      "source": [
        "# removing the http from the m\n",
        "\n",
        "m['m_tweet'] = m['m_tweet'].apply(lambda r : header_remover(r, ['http']))"
      ],
      "metadata": {
        "id": "CPel8RYtnsGO"
      },
      "execution_count": null,
      "outputs": []
    },
    {
      "cell_type": "code",
      "source": [
        "m['is_there_digit'] = m['m_tweet'].apply(lambda y : len(re.findall('[0-9]' , y)))"
      ],
      "metadata": {
        "id": "2edk6Ep-nvMb"
      },
      "execution_count": null,
      "outputs": []
    },
    {
      "cell_type": "code",
      "source": [
        "m[(m['is_there_digit'] != 0)]"
      ],
      "metadata": {
        "id": "SnykqGLOnxql"
      },
      "execution_count": null,
      "outputs": []
    },
    {
      "cell_type": "code",
      "source": [
        "# Previewing our current dataset\n",
        "\n",
        "df.head(20)"
      ],
      "metadata": {
        "id": "_t_FXdqJn2KN"
      },
      "execution_count": null,
      "outputs": []
    },
    {
      "cell_type": "markdown",
      "source": [
        "## Duplicated Data"
      ],
      "metadata": {
        "id": "ejyeuPNjn5Gu"
      }
    },
    {
      "cell_type": "code",
      "source": [
        "#delete the duplicates by dropping them and store the result value to a new variable\n",
        "\n",
        "df2 = df.drop_duplicates('m_tweet',keep='first') \n",
        "\n",
        "df2.head(30)"
      ],
      "metadata": {
        "id": "JIL5OFnIn7lO"
      },
      "execution_count": null,
      "outputs": []
    },
    {
      "cell_type": "code",
      "source": [
        "# we dropped duplicated rows\n",
        "\n",
        "print(df.shape)\n",
        "print(df2.shape)"
      ],
      "metadata": {
        "id": "bdcfIGMGoDwz"
      },
      "execution_count": null,
      "outputs": []
    },
    {
      "cell_type": "code",
      "source": [
        "# checking white space\n",
        "print(df2.m_tweet.str.isspace())\n",
        "\n",
        "print('\\n')\n",
        "print('Number of spaces', df2.m_tweet.str.isspace().sum())"
      ],
      "metadata": {
        "id": "6v_BxxmooKp2"
      },
      "execution_count": null,
      "outputs": []
    },
    {
      "cell_type": "code",
      "source": [
        "# getting data without whitespaces\n",
        "\n",
        "df_clean = df2[df2['m_tweet'] != '']\n",
        "df_clean.head()"
      ],
      "metadata": {
        "id": "-HiPTTp5oOMC"
      },
      "execution_count": null,
      "outputs": []
    },
    {
      "cell_type": "markdown",
      "source": [
        "# EDA"
      ],
      "metadata": {
        "id": "04yzH5C9p7dv"
      }
    },
    {
      "cell_type": "markdown",
      "source": [
        "## Visualizations"
      ],
      "metadata": {
        "id": "Bva5LssOqJqm"
      }
    },
    {
      "cell_type": "markdown",
      "source": [
        "### Hashtags"
      ],
      "metadata": {
        "id": "Ncfn9lJiqskw"
      }
    },
    {
      "cell_type": "code",
      "source": [
        "# Visualizing most commonly used hashtags\n",
        "#\n",
        "h_df = df_clean['hashtags'].apply(lambda f : ' '.join(f))"
      ],
      "metadata": {
        "id": "d7VUHtOIqwXx"
      },
      "execution_count": null,
      "outputs": []
    },
    {
      "cell_type": "code",
      "source": [
        "# Mostly used hashtags in a word cloud\n",
        "#\n",
        "plt.figure(figsize=(20,20))\n",
        "wc2 = WordCloud(max_words=2000, min_font_size=10, height=800, width=1600, \n",
        "        background_color=\"#ffffff\").generate(\" \".join(h_df))\n",
        "plt.imshow(wc2)\n",
        "plt.axis('off')\n",
        "plt.title('Commonly used Hashtags', fontsize=50)\n",
        "plt.tight_layout(pad=0)\n",
        "plt.show()\n",
        "\n"
      ],
      "metadata": {
        "id": "uDr7SF2Lq0gv"
      },
      "execution_count": null,
      "outputs": []
    },
    {
      "cell_type": "code",
      "source": [
        "# Getting frequencies of hashtags\n",
        "#\n",
        "h_list = df_clean['hashtags'].to_list()\n",
        "import collections\n",
        "c = collections.Counter(sum(h_list, []))\n",
        "hash = pd.DataFrame(c.most_common(20))\n",
        "hash = bar_outlier(hash,1.5)"
      ],
      "metadata": {
        "id": "Beub16dLq4nc"
      },
      "execution_count": null,
      "outputs": []
    },
    {
      "cell_type": "code",
      "source": [
        "# A bar plot of used hashtags\n",
        "#\n",
        "\n",
        "fig = plt.figure(figsize=(15,15))\n",
        "ax = fig.add_axes([0,0,1,1])\n",
        "ax.bar(hash[0],hash[1])\n",
        "plt.xticks(rotation=60)\n",
        "plt.show()"
      ],
      "metadata": {
        "id": "_eDqVInoq8XN"
      },
      "execution_count": null,
      "outputs": []
    },
    {
      "cell_type": "markdown",
      "source": [
        "### Mentions"
      ],
      "metadata": {
        "id": "JMNBxfPFq-gb"
      }
    },
    {
      "cell_type": "code",
      "source": [
        "# Visualizing @s on a wordcloud\n",
        "#\n",
        "a_df = df_clean['ats'].apply(lambda f : ' '.join(f))"
      ],
      "metadata": {
        "id": "umVS003qrDce"
      },
      "execution_count": null,
      "outputs": []
    },
    {
      "cell_type": "code",
      "source": [
        "# Word cloud \n",
        "#\n",
        "plt.figure(figsize=(20,20))\n",
        "wc2 = WordCloud(max_words=2000, min_font_size=10, height=800, width=1600, \n",
        "        background_color=\"white\").generate(\" \".join(a_df))\n",
        "plt.imshow(wc2)\n"
      ],
      "metadata": {
        "id": "-PRCh6tbrFw_"
      },
      "execution_count": null,
      "outputs": []
    },
    {
      "cell_type": "code",
      "source": [
        "# A visualization of most @s\n",
        "#\n",
        "make_bars(df_clean['ats'].to_list(), 15, (15,15), 1.5)"
      ],
      "metadata": {
        "id": "xA5dJh7wrOP-"
      },
      "execution_count": null,
      "outputs": []
    },
    {
      "cell_type": "markdown",
      "source": [
        "### Most Common words in tweet"
      ],
      "metadata": {
        "id": "e1IvYGV9rT1c"
      }
    },
    {
      "cell_type": "code",
      "source": [
        "w_df = df_clean['m_tweet']\n",
        "\n",
        "# Plotting most common words in a WordCloud\n",
        "#\n",
        "plt.figure(figsize=(20,20))\n",
        "wc2 = WordCloud(max_words=2000, min_font_size=10, height=800, width=1600, \n",
        "        background_color=\"white\").generate(\" \".join(w_df))\n",
        "plt.imshow(wc2)"
      ],
      "metadata": {
        "id": "TBuCJ2zUrdyR"
      },
      "execution_count": null,
      "outputs": []
    },
    {
      "cell_type": "code",
      "source": [
        "# splitting the m_tweet to individual words\n",
        "\n",
        "w_df = df_clean['m_tweet'].apply(lambda a : a.split()).to_list()\n"
      ],
      "metadata": {
        "id": "Hh5zNtS4rk-v"
      },
      "execution_count": null,
      "outputs": []
    },
    {
      "cell_type": "code",
      "source": [
        "# Visualizing most common words in a bar plot\n",
        "#\n",
        "make_bars(w_df , 15, (15,15), 1.5)"
      ],
      "metadata": {
        "id": "f2GACqkIrmy2"
      },
      "execution_count": null,
      "outputs": []
    },
    {
      "cell_type": "markdown",
      "source": [
        "### Pie Chart of Hashtags & Mentions"
      ],
      "metadata": {
        "id": "lMwDo23irqCZ"
      }
    },
    {
      "cell_type": "code",
      "source": [
        "df_clean['pie'] = df_clean.apply(lambda r : for_pie(r['hashtags'], r['ats']) , axis = 1)\n",
        "\n",
        "# Checking to see the key and value of each assigned number ie 0, 1, 2, 3\n",
        "\n",
        "pie = collections.Counter(df_clean['pie'].to_list())\n",
        "pie"
      ],
      "metadata": {
        "id": "vZeEB7a0rzZn"
      },
      "execution_count": null,
      "outputs": []
    },
    {
      "cell_type": "code",
      "source": [
        "# Getting the values \n",
        "pie.values()"
      ],
      "metadata": {
        "id": "WOi-sTmIr4oZ"
      },
      "execution_count": null,
      "outputs": []
    },
    {
      "cell_type": "code",
      "source": [
        "# Visualizing hastags and ats in a pie chart\n",
        "#\n",
        "labels= ['hash & Ats', 'hash no Ats', 'no hash w Ats', 'no hash or Ats']\n",
        "\n",
        "colors = ['#ff9999','#66b3ff','#99ff99','#ffcc99']\n",
        "\n",
        "sizes= [984, 2667, 466, 604]\n",
        "\n",
        "plt.figure(figsize =(8, 8))\n",
        "plt.pie(sizes,labels=labels, colors=colors, startangle=90, shadow=True,explode=(0.1, 0.0, 0.0, 0.0), autopct='%1.2f%%')\n",
        "\n",
        "plt.title('Haashtags & Ats Pie Chart')\n",
        "\n",
        "plt.axis('equal')\n",
        "plt.legend(loc=\"lower right\")\n",
        "plt.show()"
      ],
      "metadata": {
        "id": "boJ5CmYZr8Z2"
      },
      "execution_count": null,
      "outputs": []
    },
    {
      "cell_type": "markdown",
      "source": [
        "### Word Count"
      ],
      "metadata": {
        "id": "r7ez83c3saBg"
      }
    },
    {
      "cell_type": "code",
      "source": [
        "# A histigrom of no of words \n",
        "#\n",
        "plt.figure(figsize =(10, 6))\n",
        "df_clean['no_of_words'].hist()\n",
        "plt.title(\"A Histogram of Word Count\")\n",
        "plt.xlabel(\"Word Count\")\n",
        "plt.show();"
      ],
      "metadata": {
        "id": "yvhoepH0sY8a"
      },
      "execution_count": null,
      "outputs": []
    },
    {
      "cell_type": "markdown",
      "source": [
        "### Length of Tweet"
      ],
      "metadata": {
        "id": "vt74SKJXsfqS"
      }
    },
    {
      "cell_type": "code",
      "source": [
        "# A histogram to show distribution of tweet length\n",
        "#\n",
        "plt.figure(figsize =(10, 6))\n",
        "df_clean['length_of_tweet'].hist()\n",
        "plt.title(\"A Histogram of Tweet Length\")\n",
        "plt.xlabel(\"Length of Tweet\")\n",
        "plt.show();\n"
      ],
      "metadata": {
        "id": "KZmDaFs9sjAq"
      },
      "execution_count": null,
      "outputs": []
    },
    {
      "cell_type": "markdown",
      "source": [
        "## Sentiment Analysis"
      ],
      "metadata": {
        "id": "Tizs8h5EqM42"
      }
    },
    {
      "cell_type": "code",
      "source": [
        "# Polarity\n",
        "\n",
        "df_clean['polarity'] = df_clean['nr_tweet'].apply(lambda x :get_polarity(x))\n",
        "df_clean[['nr_tweet', 'polarity']].sample(10)"
      ],
      "metadata": {
        "id": "Q-ITBre9oSMC"
      },
      "execution_count": null,
      "outputs": []
    },
    {
      "cell_type": "code",
      "source": [
        "# Subjectivity\n",
        "\n",
        "df_clean['subjectivity'] = df_clean.tweet.apply(get_subjectivity)\n",
        "df_clean[['tweet', 'subjectivity']].sample(10)"
      ],
      "metadata": {
        "id": "Na7l0LPKqYD8"
      },
      "execution_count": null,
      "outputs": []
    },
    {
      "cell_type": "code",
      "source": [
        "# Extracting sentiments score\n",
        "#\n",
        "df_clean['sentiment_score'] = df_clean['tweet'].apply(lambda x: TextBlob(x).sentiment[0])\n",
        "df_clean[['tweet', 'polarity', 'subjectivity', 'sentiment_score']].sample(10)\n"
      ],
      "metadata": {
        "id": "umzGjMZEqdNl"
      },
      "execution_count": null,
      "outputs": []
    },
    {
      "cell_type": "code",
      "source": [
        "# Labelling sentiments to either Positive or Negative\n",
        "#\n",
        "\n",
        "df_clean['sentiment'] = df_clean.apply(lambda r : positive_negative(r['sentiment_score']) , axis = 1)\n",
        "df_clean[['tweet', 'polarity', 'subjectivity', 'sentiment_score', 'sentiment']].sample(10)\n"
      ],
      "metadata": {
        "id": "1J_qbLk-qkhb"
      },
      "execution_count": null,
      "outputs": []
    },
    {
      "cell_type": "markdown",
      "source": [
        "### Scatter plot of Polarity & Subjectivity"
      ],
      "metadata": {
        "id": "8cfo-ORWsDdo"
      }
    },
    {
      "cell_type": "code",
      "source": [
        "# plotting the line-chart for the average polarity with the supply-chain-incidents\n",
        "plt.figure(figsize =(10, 8))\n",
        "plt.title(\"polarity vs subjectivity\")\n",
        "plt.xlabel(\"polarity\")\n",
        "plt.ylabel(\"subjectivity\")\n",
        "plt.ylim(-0.3, 0.3)\n",
        "plt.scatter(df_clean['polarity'],\tdf_clean['subjectivity'])\n",
        "plt.show();\n"
      ],
      "metadata": {
        "id": "iU1ivpyzsI4T"
      },
      "execution_count": null,
      "outputs": []
    },
    {
      "cell_type": "code",
      "source": [
        "# a plot of sentiments \n",
        "#\n",
        "import seaborn as sns\n",
        "\n",
        "plt.figure(figsize =(8, 6))\n",
        "sns.countplot(data=df_clean, x= 'sentiment') \n",
        "plt.title(\"A Bar Plot of sentiments\")\n",
        "plt.show();\n"
      ],
      "metadata": {
        "id": "LhWPlyRqsO-F"
      },
      "execution_count": null,
      "outputs": []
    },
    {
      "cell_type": "code",
      "source": [
        "# Frequency distributions of the sentiment categories\n",
        "#\n",
        "df_clean[['m_tweet', 'sentiment']].groupby('sentiment').describe()"
      ],
      "metadata": {
        "id": "NMGva3HwsT7Z"
      },
      "execution_count": null,
      "outputs": []
    },
    {
      "cell_type": "markdown",
      "source": [
        "# BERT............"
      ],
      "metadata": {
        "id": "9YXA8GRwssw3"
      }
    },
    {
      "cell_type": "code",
      "source": [
        "# build our model with the Sequence Classifier and our tokenizer with BERT’s Tokenizer.\n",
        "#\n",
        "model = TFBertForSequenceClassification.from_pretrained(\"bert-base-uncased\")\n",
        "tokenizer = BertTokenizer.from_pretrained(\"bert-base-uncased\")"
      ],
      "metadata": {
        "id": "UVxoEq-osugz"
      },
      "execution_count": null,
      "outputs": []
    },
    {
      "cell_type": "code",
      "source": [
        "# Looking at the summary of our model\n",
        "#\n",
        "model.summary()"
      ],
      "metadata": {
        "id": "ErkdFsMptGo1"
      },
      "execution_count": null,
      "outputs": []
    },
    {
      "cell_type": "code",
      "source": [
        "# Getting the dataset\n",
        "#\n",
        "dataset = df_clean.copy()\n",
        "dataset['sentiment']"
      ],
      "metadata": {
        "id": "mtqcTdtRtNkt"
      },
      "execution_count": null,
      "outputs": []
    },
    {
      "cell_type": "code",
      "source": [
        "# Creating instance of labelencoder\n",
        "#\n",
        "\n",
        "labelencoder = LabelEncoder()\n",
        "\n",
        "# Assigning numerical values and storing in another column\n",
        "dataset['sentiment_Cat'] = labelencoder.fit_transform(dataset['sentiment'])\n",
        "dataset.head()"
      ],
      "metadata": {
        "id": "uTz7foaHtRXz"
      },
      "execution_count": null,
      "outputs": []
    },
    {
      "cell_type": "markdown",
      "source": [
        "# Modelling"
      ],
      "metadata": {
        "id": "FYfTZfChtbz4"
      }
    },
    {
      "cell_type": "markdown",
      "source": [
        "## Class Imbalance"
      ],
      "metadata": {
        "id": "JGYRGnWItj8H"
      }
    },
    {
      "cell_type": "code",
      "source": [
        "# Performing oversampling to deal with our class imbalance \n",
        "# This is because undersampling requires a large number of records which we don't have in our case\n",
        "\n",
        "# Let's start by seeing the shape of our classes\n",
        "positive = dataset[dataset['sentiment_Cat']==1]\n",
        "negative = dataset[dataset['sentiment_Cat']==0]\n",
        "\n",
        "print(positive.shape,negative.shape)"
      ],
      "metadata": {
        "id": "1hqpr6TStWin",
        "colab": {
          "base_uri": "https://localhost:8080/"
        },
        "outputId": "4a798871-a33a-420b-9313-085b58a9a7cc"
      },
      "execution_count": null,
      "outputs": [
        {
          "output_type": "stream",
          "name": "stdout",
          "text": [
            "(3971, 23) (665, 23)\n"
          ]
        }
      ]
    },
    {
      "cell_type": "code",
      "source": [
        "# Splitting our dataset into dependent and independent variables\n",
        "\n",
        "X = dataset['m_tweet'].values.reshape(-1, 1)\n",
        "y = dataset['sentiment_Cat'].values.reshape(-1, 1)\n",
        "\n",
        "print(X.shape, y.shape)"
      ],
      "metadata": {
        "colab": {
          "base_uri": "https://localhost:8080/"
        },
        "id": "ptAKyug6lrMW",
        "outputId": "d2c04373-6c65-454b-c6aa-fd3299645b52"
      },
      "execution_count": null,
      "outputs": [
        {
          "output_type": "stream",
          "name": "stdout",
          "text": [
            "(4636, 1) (4636, 1)\n"
          ]
        }
      ]
    },
    {
      "cell_type": "code",
      "source": [
        "# Performing oversampling\n",
        "from imblearn.over_sampling import RandomOverSampler\n",
        "os = RandomOverSampler(sampling_strategy=0.5)\n",
        "X_res, y_res = os.fit_resample(X,y)"
      ],
      "metadata": {
        "id": "7X_MuO3StpYo"
      },
      "execution_count": null,
      "outputs": []
    },
    {
      "cell_type": "code",
      "source": [
        "# The new shape of our X and y variables\n",
        "print(X_res.shape,y_res.shape)"
      ],
      "metadata": {
        "id": "TLJbmdt_tr0S",
        "colab": {
          "base_uri": "https://localhost:8080/"
        },
        "outputId": "1a4db6e7-5d81-459f-f88f-1548718ff8eb"
      },
      "execution_count": null,
      "outputs": [
        {
          "output_type": "stream",
          "name": "stdout",
          "text": [
            "(5956, 1) (5956,)\n"
          ]
        }
      ]
    },
    {
      "cell_type": "code",
      "source": [
        "# Checking for the imbalance of the sentiment columns\n",
        "\n",
        "dataset['sentiment_Cat'].value_counts()"
      ],
      "metadata": {
        "id": "vDqx1_iYtuTY",
        "colab": {
          "base_uri": "https://localhost:8080/"
        },
        "outputId": "e4b3e421-3540-4e7e-c721-82e13f59698b"
      },
      "execution_count": null,
      "outputs": [
        {
          "output_type": "execute_result",
          "data": {
            "text/plain": [
              "1    3971\n",
              "0     665\n",
              "Name: sentiment_Cat, dtype: int64"
            ]
          },
          "metadata": {},
          "execution_count": 81
        }
      ]
    },
    {
      "cell_type": "code",
      "source": [
        "# Checking to see that we corrected the imbalance\n",
        "\n",
        "np.unique(y_res, return_counts=True)"
      ],
      "metadata": {
        "id": "gjiBDUMftxMz",
        "colab": {
          "base_uri": "https://localhost:8080/"
        },
        "outputId": "2863fe37-d830-4e14-846f-89d81c521648"
      },
      "execution_count": null,
      "outputs": [
        {
          "output_type": "execute_result",
          "data": {
            "text/plain": [
              "(array([0, 1]), array([1985, 3971]))"
            ]
          },
          "metadata": {},
          "execution_count": 82
        }
      ]
    },
    {
      "cell_type": "code",
      "source": [
        "# Splitting\n",
        "#\n",
        "X_train, X_test, y_train, y_test = train_test_split(X_res, y_res, test_size=0.2, random_state=42)"
      ],
      "metadata": {
        "id": "Z4lnYQEpt3NW"
      },
      "execution_count": null,
      "outputs": []
    },
    {
      "cell_type": "code",
      "source": [
        "# Having a preview of four random tweets\n",
        "X_train"
      ],
      "metadata": {
        "id": "mAwvANoTt7Eo",
        "colab": {
          "base_uri": "https://localhost:8080/"
        },
        "outputId": "876eed96-5dd2-4d5a-f9de-446ed48ed71d"
      },
      "execution_count": null,
      "outputs": [
        {
          "output_type": "execute_result",
          "data": {
            "text/plain": [
              "array([['fair professions many similar case kra even diminished manufacturing capacity eabl still cases celebrating them ends'],\n",
              "       ['leather boots rubber soles ksh 5000 sizes 3945 0729317944 4 orders bihi tower 5th flr rm 3 we deliver countrywide keroche white house tabitha kipkoech makueni kcse eabl httpstcotcijg0vu0j'],\n",
              "       ['nexus bistro lounge kisii hosting something big courtesy eabl there entry free httpstcoratdtccjml'],\n",
              "       ...,\n",
              "       ['business hate defined benefit pensions really it'],\n",
              "       ['hello enquiring long one received keg pump applying it applied mine 2019 nakuru depot upto date received'],\n",
              "       ['eabl keep big bag marketing spending tusker fc draw line keep recycling way sell notruly kenyan brand kpl club named flagship beer 3 fan cant even chat attendance beloved zoo kericho']],\n",
              "      dtype=object)"
            ]
          },
          "metadata": {},
          "execution_count": 84
        }
      ]
    },
    {
      "cell_type": "code",
      "source": [
        "# Importing the BERT model and get embeding vectors for few sample statements\n",
        "bert_preprocess = hub.KerasLayer(\"https://tfhub.dev/tensorflow/bert_en_uncased_preprocess/3\")\n",
        "bert_encoder = hub.KerasLayer(\"https://tfhub.dev/tensorflow/bert_en_uncased_L-12_H-768_A-12/4\")"
      ],
      "metadata": {
        "id": "57pBnKR9uAGB",
        "colab": {
          "base_uri": "https://localhost:8080/"
        },
        "outputId": "03ef67f0-e5be-4c9d-9d64-53da938ad787"
      },
      "execution_count": null,
      "outputs": [
        {
          "output_type": "stream",
          "name": "stderr",
          "text": [
            "INFO:absl:Using /tmp/tfhub_modules to cache modules.\n",
            "INFO:absl:Downloading TF-Hub Module 'https://tfhub.dev/tensorflow/bert_en_uncased_preprocess/3'.\n",
            "INFO:absl:Downloaded https://tfhub.dev/tensorflow/bert_en_uncased_preprocess/3, Total size: 1.96MB\n",
            "INFO:absl:Downloaded TF-Hub Module 'https://tfhub.dev/tensorflow/bert_en_uncased_preprocess/3'.\n",
            "INFO:absl:Downloading TF-Hub Module 'https://tfhub.dev/tensorflow/bert_en_uncased_L-12_H-768_A-12/4'.\n",
            "INFO:absl:Downloaded https://tfhub.dev/tensorflow/bert_en_uncased_L-12_H-768_A-12/4, Total size: 429.66MB\n",
            "INFO:absl:Downloaded TF-Hub Module 'https://tfhub.dev/tensorflow/bert_en_uncased_L-12_H-768_A-12/4'.\n"
          ]
        }
      ]
    },
    {
      "cell_type": "code",
      "source": [
        "# Get embeding vectors for few sample words. Compare them using cosine similarity\n",
        "e = get_sentence_embeding([\n",
        "    \"bread\", \n",
        "    \"grapes\",\n",
        "    \"mango\",\n",
        "    \"Jasmine Wakini\",\n",
        "    \"Ruth Nguli\",\n",
        "    \"Billiah Kerubo\"\n",
        "]\n",
        ")"
      ],
      "metadata": {
        "id": "QBJ7CDk_uIuz"
      },
      "execution_count": null,
      "outputs": []
    },
    {
      "cell_type": "code",
      "source": [
        "cosine_similarity([e[0]],[e[1]])"
      ],
      "metadata": {
        "id": "mHlHFROquN_Y",
        "colab": {
          "base_uri": "https://localhost:8080/"
        },
        "outputId": "83cfcd42-2f73-4b69-fa16-2d5d818b2180"
      },
      "execution_count": null,
      "outputs": [
        {
          "output_type": "execute_result",
          "data": {
            "text/plain": [
              "array([[0.9748135]], dtype=float32)"
            ]
          },
          "metadata": {},
          "execution_count": 90
        }
      ]
    },
    {
      "cell_type": "code",
      "source": [
        "cosine_similarity([e[3]],[e[4]])"
      ],
      "metadata": {
        "id": "rNq4K6gluRCC",
        "colab": {
          "base_uri": "https://localhost:8080/"
        },
        "outputId": "2efdd0c2-9f73-4807-dc1f-bb6590ea33c8"
      },
      "execution_count": null,
      "outputs": [
        {
          "output_type": "execute_result",
          "data": {
            "text/plain": [
              "array([[0.85866576]], dtype=float32)"
            ]
          },
          "metadata": {},
          "execution_count": 91
        }
      ]
    },
    {
      "cell_type": "code",
      "source": [
        "# Bert layers\n",
        "text_input = tf.keras.layers.Input(shape=(), dtype=tf.string, name='text')\n",
        "preprocessed_text = bert_preprocess(text_input)\n",
        "outputs = bert_encoder(preprocessed_text)\n",
        "\n",
        "# Neural network layers\n",
        "l = tf.keras.layers.Dropout(0.1, name=\"dropout\")(outputs['pooled_output'])\n",
        "l = tf.keras.layers.Dense(1, activation='sigmoid', name=\"output\")(l)\n",
        "\n",
        "# Use inputs and outputs to construct a final model\n",
        "model = tf.keras.Model(inputs=[text_input], outputs = [l])"
      ],
      "metadata": {
        "id": "NsZ7we9JuYQ0"
      },
      "execution_count": null,
      "outputs": []
    },
    {
      "cell_type": "code",
      "source": [
        "# The summary of our BERT model:\n",
        "model.summary()"
      ],
      "metadata": {
        "id": "ZAZd5WxduamH",
        "colab": {
          "base_uri": "https://localhost:8080/"
        },
        "outputId": "ace6a8df-fe46-4502-af18-171346ca5a43"
      },
      "execution_count": null,
      "outputs": [
        {
          "output_type": "stream",
          "name": "stdout",
          "text": [
            "Model: \"model\"\n",
            "__________________________________________________________________________________________________\n",
            " Layer (type)                   Output Shape         Param #     Connected to                     \n",
            "==================================================================================================\n",
            " text (InputLayer)              [(None,)]            0           []                               \n",
            "                                                                                                  \n",
            " keras_layer (KerasLayer)       {'input_word_ids':   0           ['text[0][0]']                   \n",
            "                                (None, 128),                                                      \n",
            "                                 'input_mask': (Non                                               \n",
            "                                e, 128),                                                          \n",
            "                                 'input_type_ids':                                                \n",
            "                                (None, 128)}                                                      \n",
            "                                                                                                  \n",
            " keras_layer_1 (KerasLayer)     {'pooled_output': (  109482241   ['keras_layer[0][0]',            \n",
            "                                None, 768),                       'keras_layer[0][1]',            \n",
            "                                 'default': (None,                'keras_layer[0][2]']            \n",
            "                                768),                                                             \n",
            "                                 'encoder_outputs':                                               \n",
            "                                 [(None, 128, 768),                                               \n",
            "                                 (None, 128, 768),                                                \n",
            "                                 (None, 128, 768),                                                \n",
            "                                 (None, 128, 768),                                                \n",
            "                                 (None, 128, 768),                                                \n",
            "                                 (None, 128, 768),                                                \n",
            "                                 (None, 128, 768),                                                \n",
            "                                 (None, 128, 768),                                                \n",
            "                                 (None, 128, 768),                                                \n",
            "                                 (None, 128, 768),                                                \n",
            "                                 (None, 128, 768),                                                \n",
            "                                 (None, 128, 768)],                                               \n",
            "                                 'sequence_output':                                               \n",
            "                                 (None, 128, 768)}                                                \n",
            "                                                                                                  \n",
            " dropout (Dropout)              (None, 768)          0           ['keras_layer_1[0][13]']         \n",
            "                                                                                                  \n",
            " output (Dense)                 (None, 1)            769         ['dropout[0][0]']                \n",
            "                                                                                                  \n",
            "==================================================================================================\n",
            "Total params: 109,483,010\n",
            "Trainable params: 769\n",
            "Non-trainable params: 109,482,241\n",
            "__________________________________________________________________________________________________\n"
          ]
        }
      ]
    },
    {
      "cell_type": "code",
      "source": [
        "# Length of X_train and X_test\n",
        "print(len(X_train))\n",
        "print(len(X_test))"
      ],
      "metadata": {
        "id": "SRFQqiDpueYm",
        "colab": {
          "base_uri": "https://localhost:8080/"
        },
        "outputId": "513269c3-f77f-457f-ffd0-00b523684c1f"
      },
      "execution_count": null,
      "outputs": [
        {
          "output_type": "stream",
          "name": "stdout",
          "text": [
            "4764\n",
            "1192\n"
          ]
        }
      ]
    },
    {
      "cell_type": "code",
      "source": [
        "# Obtaining the metrics needed for our assessment\n",
        "METRICS = [\n",
        "      tf.keras.metrics.BinaryAccuracy(name='accuracy'),\n",
        "      tf.keras.metrics.Precision(name='precision'),\n",
        "      tf.keras.metrics.Recall(name='recall')\n",
        "]\n",
        "\n",
        "model.compile(optimizer='adam',\n",
        "              loss='binary_crossentropy',\n",
        "              metrics=METRICS)"
      ],
      "metadata": {
        "id": "NnwVMhDIuiFi"
      },
      "execution_count": null,
      "outputs": []
    },
    {
      "cell_type": "code",
      "source": [
        "# Training the model\n",
        "model.fit(X_train, y_train, epochs=10)"
      ],
      "metadata": {
        "id": "4KU19ox3ukE9",
        "colab": {
          "base_uri": "https://localhost:8080/"
        },
        "outputId": "d776e7af-ab72-43ee-f828-1ce2ace88354"
      },
      "execution_count": null,
      "outputs": [
        {
          "output_type": "stream",
          "name": "stdout",
          "text": [
            "Epoch 1/10\n",
            "149/149 [==============================] - 116s 683ms/step - loss: 0.6196 - accuracy: 0.6616 - precision: 0.6760 - recall: 0.9505\n",
            "Epoch 2/10\n",
            "149/149 [==============================] - 101s 677ms/step - loss: 0.6027 - accuracy: 0.6692 - precision: 0.6836 - recall: 0.9424\n",
            "Epoch 3/10\n",
            "149/149 [==============================] - 101s 676ms/step - loss: 0.5929 - accuracy: 0.6832 - precision: 0.7007 - recall: 0.9204\n",
            "Epoch 4/10\n",
            "149/149 [==============================] - 101s 680ms/step - loss: 0.5878 - accuracy: 0.6803 - precision: 0.7001 - recall: 0.9148\n",
            "Epoch 5/10\n",
            "149/149 [==============================] - 101s 676ms/step - loss: 0.5853 - accuracy: 0.6767 - precision: 0.6982 - recall: 0.9117\n",
            "Epoch 6/10\n",
            "149/149 [==============================] - 101s 676ms/step - loss: 0.5841 - accuracy: 0.6851 - precision: 0.7069 - recall: 0.9054\n",
            "Epoch 7/10\n",
            "149/149 [==============================] - 100s 674ms/step - loss: 0.5790 - accuracy: 0.6805 - precision: 0.7042 - recall: 0.9023\n",
            "Epoch 8/10\n",
            "149/149 [==============================] - 101s 675ms/step - loss: 0.5764 - accuracy: 0.6812 - precision: 0.7068 - recall: 0.8957\n",
            "Epoch 9/10\n",
            "149/149 [==============================] - 100s 674ms/step - loss: 0.5752 - accuracy: 0.6921 - precision: 0.7127 - recall: 0.9054\n",
            "Epoch 10/10\n",
            "149/149 [==============================] - 101s 675ms/step - loss: 0.5659 - accuracy: 0.6904 - precision: 0.7136 - recall: 0.8985\n"
          ]
        },
        {
          "output_type": "execute_result",
          "data": {
            "text/plain": [
              "<keras.callbacks.History at 0x7fb2c377ec90>"
            ]
          },
          "metadata": {},
          "execution_count": 96
        }
      ]
    },
    {
      "cell_type": "code",
      "source": [
        "# Model evaluation\n",
        "model.evaluate(X_test, y_test)"
      ],
      "metadata": {
        "id": "2ReNa0EBup2M",
        "colab": {
          "base_uri": "https://localhost:8080/"
        },
        "outputId": "fbf6418d-8982-4c8f-ad0e-9d5295f1e95b"
      },
      "execution_count": null,
      "outputs": [
        {
          "output_type": "stream",
          "name": "stdout",
          "text": [
            "38/38 [==============================] - 26s 665ms/step - loss: 0.5796 - accuracy: 0.7013 - precision: 0.7229 - recall: 0.8806\n"
          ]
        },
        {
          "output_type": "execute_result",
          "data": {
            "text/plain": [
              "[0.5796478390693665,\n",
              " 0.7013422846794128,\n",
              " 0.7228661775588989,\n",
              " 0.8806161880493164]"
            ]
          },
          "metadata": {},
          "execution_count": 97
        }
      ]
    },
    {
      "cell_type": "code",
      "source": [
        "# Prediction\n",
        "y_predicted = model.predict(X_test)\n",
        "y_predicted = y_predicted.flatten()\n",
        "\n",
        "y_predicted = np.where(y_predicted > 0.5, 1, 0)\n",
        "y_predicted"
      ],
      "metadata": {
        "id": "rum1tD3Eux-x",
        "colab": {
          "base_uri": "https://localhost:8080/"
        },
        "outputId": "92abd8ac-d9bb-42fd-9da2-989bc88b3b20"
      },
      "execution_count": null,
      "outputs": [
        {
          "output_type": "execute_result",
          "data": {
            "text/plain": [
              "array([0, 1, 1, ..., 1, 1, 1])"
            ]
          },
          "metadata": {},
          "execution_count": 98
        }
      ]
    },
    {
      "cell_type": "code",
      "source": [
        "# Confusion matrx\n",
        "cm = confusion_matrix(y_test, y_predicted)\n",
        "cm"
      ],
      "metadata": {
        "id": "sDJyF5gZu4PR",
        "colab": {
          "base_uri": "https://localhost:8080/"
        },
        "outputId": "797ee30b-d032-4b5a-de6e-f10e8a5e7dc9"
      },
      "execution_count": null,
      "outputs": [
        {
          "output_type": "execute_result",
          "data": {
            "text/plain": [
              "array([[150, 263],\n",
              "       [ 93, 686]])"
            ]
          },
          "metadata": {},
          "execution_count": 99
        }
      ]
    },
    {
      "cell_type": "code",
      "source": [
        "# Visualizing the confusion matrix\n",
        "\n",
        "plt.figure(dpi=150)\n",
        "sn.heatmap(cm, annot=True, fmt='d')\n",
        "plt.xlabel('Predicted')\n",
        "plt.ylabel('Truth')"
      ],
      "metadata": {
        "id": "CVCJGLL5u76o",
        "colab": {
          "base_uri": "https://localhost:8080/",
          "height": 579
        },
        "outputId": "b54ae542-ebb3-4eba-c58a-593c0e5bfcfb"
      },
      "execution_count": null,
      "outputs": [
        {
          "output_type": "execute_result",
          "data": {
            "text/plain": [
              "Text(69.58333333333334, 0.5, 'Truth')"
            ]
          },
          "metadata": {},
          "execution_count": 100
        },
        {
          "output_type": "display_data",
          "data": {
            "text/plain": [
              "<Figure size 900x600 with 2 Axes>"
            ],
            "image/png": "[encoded data removed]"
          },
          "metadata": {
            "needs_background": "light"
          }
        }
      ]
    },
    {
      "cell_type": "code",
      "source": [
        "# Classification report\n",
        "print(classification_report(y_test, y_predicted))"
      ],
      "metadata": {
        "id": "6MgsyDXAvBXh",
        "colab": {
          "base_uri": "https://localhost:8080/"
        },
        "outputId": "54e23114-bf15-4a4b-d150-e63dbdcd03d2"
      },
      "execution_count": null,
      "outputs": [
        {
          "output_type": "stream",
          "name": "stdout",
          "text": [
            "              precision    recall  f1-score   support\n",
            "\n",
            "           0       0.62      0.36      0.46       413\n",
            "           1       0.72      0.88      0.79       779\n",
            "\n",
            "    accuracy                           0.70      1192\n",
            "   macro avg       0.67      0.62      0.63      1192\n",
            "weighted avg       0.69      0.70      0.68      1192\n",
            "\n"
          ]
        }
      ]
    },
    {
      "cell_type": "code",
      "source": [
        "# Inference\n",
        "sentiments = [\n",
        "    \"april kengen dividend may equity dividend june dtb dividend december eabl dividend etc etc 30 company giving dividend 12 months roughly 2 company give dividend per month\", \n",
        "    \"congratulations randolph worthy battle well fought\"]\n",
        "model.predict(sentiments)"
      ],
      "metadata": {
        "id": "WU5JLkt7vE8i",
        "colab": {
          "base_uri": "https://localhost:8080/"
        },
        "outputId": "9e99da25-030b-4bc3-f467-95c78c491da0"
      },
      "execution_count": null,
      "outputs": [
        {
          "output_type": "execute_result",
          "data": {
            "text/plain": [
              "array([[0.506347 ],\n",
              "       [0.7303566]], dtype=float32)"
            ]
          },
          "metadata": {},
          "execution_count": 102
        }
      ]
    },
    {
      "cell_type": "markdown",
      "source": [
        "## Challenging the Solution"
      ],
      "metadata": {
        "id": "AwtQxUd9rRdZ"
      }
    },
    {
      "cell_type": "markdown",
      "source": [
        "### Naive Bayes"
      ],
      "metadata": {
        "id": "WkFsiWhgrWuD"
      }
    },
    {
      "cell_type": "code",
      "source": [
        "# Finally, we will transform the data into occurrences, \n",
        "# which will be the features that we will feed into our model\n",
        "# \n",
        "\n",
        "from sklearn.feature_extraction.text import CountVectorizer\n",
        "\n",
        "count_vectorizer = CountVectorizer(ngram_range=(1,2))    # Unigram and Bigram\n",
        "counts = count_vectorizer.fit_transform(dataset['m_tweet'])  \n",
        "counts"
      ],
      "metadata": {
        "colab": {
          "base_uri": "https://localhost:8080/"
        },
        "id": "FZ1SJPLurSSj",
        "outputId": "89ae1c91-db13-4d40-df43-b4c07bc4aafe"
      },
      "execution_count": null,
      "outputs": [
        {
          "output_type": "execute_result",
          "data": {
            "text/plain": [
              "<4636x56006 sparse matrix of type '<class 'numpy.int64'>'\n",
              "\twith 107175 stored elements in Compressed Sparse Row format>"
            ]
          },
          "metadata": {},
          "execution_count": 87
        }
      ]
    },
    {
      "cell_type": "code",
      "source": [
        "# We could leave it as the simple word-count per message, but it is better to use Term Frequency Inverse Document Frequency, more known as tf-idf\n",
        "# \n",
        "from sklearn.feature_extraction.text import TfidfTransformer\n",
        "\n",
        "transformer = TfidfTransformer().fit(counts)\n",
        "\n",
        "counts_tfid = transformer.transform(counts)"
      ],
      "metadata": {
        "id": "UuTmZzO3rcKk"
      },
      "execution_count": null,
      "outputs": []
    },
    {
      "cell_type": "code",
      "source": [
        "from sklearn.feature_extraction.text import Tfid"
      ],
      "metadata": {
        "id": "WKVPdBqfQnuc",
        "colab": {
          "base_uri": "https://localhost:8080/",
          "height": 321
        },
        "outputId": "b2250bbc-3c00-4591-a1a5-6a4504dfedfa"
      },
      "execution_count": null,
      "outputs": [
        {
          "output_type": "error",
          "ename": "ImportError",
          "evalue": "ignored",
          "traceback": [
            "\u001b[0;31m---------------------------------------------------------------------------\u001b[0m",
            "\u001b[0;31mImportError\u001b[0m                               Traceback (most recent call last)",
            "\u001b[0;32m<ipython-input-88-45b37f821549>\u001b[0m in \u001b[0;36m<module>\u001b[0;34m()\u001b[0m\n\u001b[0;32m----> 1\u001b[0;31m \u001b[0;32mfrom\u001b[0m \u001b[0msklearn\u001b[0m\u001b[0;34m.\u001b[0m\u001b[0mfeature_extraction\u001b[0m\u001b[0;34m.\u001b[0m\u001b[0mtext\u001b[0m \u001b[0;32mimport\u001b[0m \u001b[0mTfid\u001b[0m\u001b[0;34m\u001b[0m\u001b[0;34m\u001b[0m\u001b[0m\n\u001b[0m",
            "\u001b[0;31mImportError\u001b[0m: cannot import name 'Tfid' from 'sklearn.feature_extraction.text' (/usr/local/lib/python3.7/dist-packages/sklearn/feature_extraction/text.py)",
            "",
            "\u001b[0;31m---------------------------------------------------------------------------\u001b[0;32m\nNOTE: If your import is failing due to a missing package, you can\nmanually install dependencies using either !pip or !apt.\n\nTo view examples of installing some common dependencies, click the\n\"Open Examples\" button below.\n\u001b[0;31m---------------------------------------------------------------------------\u001b[0m\n"
          ],
          "errorDetails": {
            "actions": [
              {
                "action": "open_url",
                "actionText": "Open Examples",
                "url": "/notebooks/snippets/importing_libraries.ipynb"
              }
            ]
          }
        }
      ]
    },
    {
      "cell_type": "code",
      "source": [
        "# Training the Model\n",
        "# Now that we have performed feature extraction from our data, it is time to build our model. \n",
        "# We will start by splitting our data into training and test sets\n",
        "# \n",
        "from sklearn.model_selection import train_test_split\n",
        "\n",
        "X_train, X_test, y_train, y_test = train_test_split(counts.toarray(), dataset['sentiment_Cat'], test_size=0.1, random_state=69)"
      ],
      "metadata": {
        "id": "6_sF1xrjrgeM"
      },
      "execution_count": null,
      "outputs": []
    },
    {
      "cell_type": "code",
      "source": [
        "# Printing splitted dataset sizes\n",
        "print(\"X_train_shape : \",X_train.shape)\n",
        "print(\"X_test_shape : \",X_test.shape)\n",
        "print(\"y_train_shape : \",y_train.shape)\n",
        "print(\"y_test_shape : \",y_test.shape)"
      ],
      "metadata": {
        "colab": {
          "base_uri": "https://localhost:8080/"
        },
        "id": "jXkXUTF0roqC",
        "outputId": "aac849da-b88b-4f8d-b6d7-e94bfd7fc078"
      },
      "execution_count": null,
      "outputs": [
        {
          "output_type": "stream",
          "name": "stdout",
          "text": [
            "X_train_shape :  (4172, 56006)\n",
            "X_test_shape :  (464, 56006)\n",
            "y_train_shape :  (4172,)\n",
            "y_test_shape :  (464,)\n"
          ]
        }
      ]
    },
    {
      "cell_type": "code",
      "source": [
        "# We will use Multinomial Naive Bayes classifier\n",
        "from sklearn.naive_bayes import MultinomialNB  # Naive Bayes Classifier\n",
        "\n",
        "model_naive = MultinomialNB().fit(X_train, y_train) \n",
        "predicted_naive = model_naive.predict(X_test)\n",
        "print(np.mean(predicted_naive == y_test))"
      ],
      "metadata": {
        "colab": {
          "base_uri": "https://localhost:8080/"
        },
        "id": "GuG2fvW-r772",
        "outputId": "5493a039-9cdd-4d91-ccac-a0baf95fcf99"
      },
      "execution_count": null,
      "outputs": [
        {
          "output_type": "stream",
          "name": "stdout",
          "text": [
            "0.7586206896551724\n"
          ]
        }
      ]
    },
    {
      "cell_type": "code",
      "source": [
        "# Print Confusion matrix\n",
        "from sklearn.metrics import confusion_matrix\n",
        "\n",
        "plt.figure(dpi=150)\n",
        "mat = confusion_matrix(y_test, predicted_naive)\n",
        "sns.heatmap(mat.T, annot=True, fmt='d', cbar=False)\n",
        "\n",
        "plt.title('Confusion Matrix for Naive Bayes')\n",
        "plt.xlabel('true label')\n",
        "plt.ylabel('predicted label')\n",
        "plt.show()"
      ],
      "metadata": {
        "colab": {
          "base_uri": "https://localhost:8080/",
          "height": 594
        },
        "id": "W9wlw11BsE5p",
        "outputId": "065ef5c6-ddbc-4f36-89ba-27d5095a7ab4"
      },
      "execution_count": null,
      "outputs": [
        {
          "output_type": "display_data",
          "data": {
            "text/plain": [
              "<Figure size 900x600 with 1 Axes>"
            ],
            "image/png": "[encoded data removed]"
          },
          "metadata": {
            "needs_background": "light"
          }
        }
      ]
    },
    {
      "cell_type": "code",
      "source": [
        "# Find out accuracy of our prediction\n",
        "from sklearn.metrics import accuracy_score\n",
        "\n",
        "score_naive = accuracy_score(predicted_naive, y_test)\n",
        "print(\"Accuracy with Naive-bayes: \",score_naive)\n"
      ],
      "metadata": {
        "colab": {
          "base_uri": "https://localhost:8080/"
        },
        "id": "ZlpP46ghsLaR",
        "outputId": "c702d1c0-1731-446f-f609-821ab0a4d378"
      },
      "execution_count": null,
      "outputs": [
        {
          "output_type": "stream",
          "name": "stdout",
          "text": [
            "Accuracy with Naive-bayes:  0.7586206896551724\n"
          ]
        }
      ]
    },
    {
      "cell_type": "code",
      "source": [
        "# Classification report\n",
        "print(classification_report(y_test,predicted_naive ))"
      ],
      "metadata": {
        "colab": {
          "base_uri": "https://localhost:8080/"
        },
        "id": "AXorhl_4sPvE",
        "outputId": "9a63ab60-3998-4c9c-8fed-87ffce7542c5"
      },
      "execution_count": null,
      "outputs": [
        {
          "output_type": "stream",
          "name": "stdout",
          "text": [
            "              precision    recall  f1-score   support\n",
            "\n",
            "           0       0.29      0.65      0.40        57\n",
            "           1       0.94      0.77      0.85       407\n",
            "\n",
            "    accuracy                           0.76       464\n",
            "   macro avg       0.61      0.71      0.62       464\n",
            "weighted avg       0.86      0.76      0.79       464\n",
            "\n"
          ]
        }
      ]
    },
    {
      "cell_type": "markdown",
      "source": [
        ""
      ],
      "metadata": {
        "id": "4uCoGFipiylN"
      }
    }
  ]
}